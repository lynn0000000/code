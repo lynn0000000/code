{
  "nbformat": 4,
  "nbformat_minor": 0,
  "metadata": {
    "colab": {
      "provenance": []
    },
    "kernelspec": {
      "name": "python3",
      "display_name": "Python 3"
    },
    "language_info": {
      "name": "python"
    }
  },
  "cells": [
    {
      "cell_type": "code",
      "execution_count": 1,
      "metadata": {
        "colab": {
          "base_uri": "https://localhost:8080/"
        },
        "id": "vLqQ4C0Q6lLS",
        "outputId": "fb025c66-9d1a-4535-e152-c6d52a5f70be"
      },
      "outputs": [
        {
          "output_type": "stream",
          "name": "stdout",
          "text": [
            "tuple是序對且定義之後就不能更改,list是串列定義之後可以更改\n"
          ]
        }
      ],
      "source": [
        "#1\n",
        "print('tuple是序對且定義之後就不能更改;list是串列定義之後可以更改')"
      ]
    },
    {
      "cell_type": "code",
      "source": [
        "#2\n",
        "print(sum([2,5,3,7,5]))\n",
        "print(sum({2,5,3,7,5}))\n",
        "print('不一樣，因為第一個程式碼是串列裡的元素相加，第二程式碼是集合相加=2+3+5+7=17')"
      ],
      "metadata": {
        "colab": {
          "base_uri": "https://localhost:8080/"
        },
        "id": "4Kd5Q_cm7voG",
        "outputId": "811310cb-33e5-4ee5-b7c0-d896273f5c25"
      },
      "execution_count": 4,
      "outputs": [
        {
          "output_type": "stream",
          "name": "stdout",
          "text": [
            "22\n",
            "17\n",
            "不一樣，因為第一個程式碼是串列相加，第二程式碼是集合相加=2+3+5+7=17\n"
          ]
        }
      ]
    },
    {
      "cell_type": "code",
      "source": [
        "#3\n",
        "iNumber1=int(input('請輸入一個整數'))\n",
        "iNumber2=int(input('請輸入一個整數'))\n",
        "print( (iNumber1+iNumber2)/2 )"
      ],
      "metadata": {
        "colab": {
          "base_uri": "https://localhost:8080/"
        },
        "id": "WbdpEXRh9Hn-",
        "outputId": "f9119456-38f1-4b79-d137-3ed162e5c7dd"
      },
      "execution_count": 7,
      "outputs": [
        {
          "output_type": "stream",
          "name": "stdout",
          "text": [
            "請輸入一個整數2\n",
            "請輸入一個整數5\n",
            "3.5\n"
          ]
        }
      ]
    },
    {
      "cell_type": "code",
      "source": [
        "from IPython.core.display import set_matplotlib_close\n",
        "#4\n",
        "import math\n",
        "\n",
        "n1=int(input('請輸入第一個整數'))\n",
        "n2=int(input('請輸入第二個整數'))\n",
        "n3=int(input('請輸入第三個整數'))\n",
        "\n",
        "large=max(n1,n2,n3)\n",
        "small=min(n1,n2,n3)\n",
        "print(math.gcd(large,small))"
      ],
      "metadata": {
        "colab": {
          "base_uri": "https://localhost:8080/"
        },
        "id": "ew_7c1cR97XR",
        "outputId": "da70cc2e-0ca2-4a90-cccc-e23f2f86f237"
      },
      "execution_count": 9,
      "outputs": [
        {
          "output_type": "stream",
          "name": "stdout",
          "text": [
            "請輸入第一個整數15\n",
            "請輸入第二個整數45\n",
            "請輸入第三個整數6\n",
            "3\n"
          ]
        }
      ]
    },
    {
      "cell_type": "code",
      "source": [
        "\n",
        "#5\n",
        "st='I Love Programming'\n",
        "\n",
        "##1\n",
        "print('I Love Programming'.startswith('i'))\n",
        "print('I Love Programming'.endswith('g'))\n",
        "\n",
        "##2\n",
        "print( st.count('m') )\n",
        "\n",
        "##3\n",
        "s1=st.swapcase()\n",
        "s2=s1.replace(' ','&')\n",
        "print(s2)\n"
      ],
      "metadata": {
        "colab": {
          "base_uri": "https://localhost:8080/"
        },
        "id": "HgSX6wmd_HbL",
        "outputId": "7a7279fe-517b-4ccf-c827-9755e07610ff"
      },
      "execution_count": 39,
      "outputs": [
        {
          "output_type": "stream",
          "name": "stdout",
          "text": [
            "False\n",
            "True\n",
            "2\n",
            "i&lOVE&pROGRAMMING\n"
          ]
        }
      ]
    },
    {
      "cell_type": "code",
      "source": [
        "#6\n",
        "tpl={9,67,35,35,29,67,35}\n",
        "\n",
        "##1\n",
        "print(max(tpl),min(tpl),sum(tpl))\n",
        "\n",
        "##2\n",
        "print( 5 in tpl )\n",
        "\n",
        "##3\n",
        "tpl.add(5)\n",
        "print(tpl)"
      ],
      "metadata": {
        "colab": {
          "base_uri": "https://localhost:8080/"
        },
        "id": "VBA7M_nJC8f8",
        "outputId": "b3568c92-0b62-4ae3-e938-9b9e226ffefe"
      },
      "execution_count": 44,
      "outputs": [
        {
          "output_type": "stream",
          "name": "stdout",
          "text": [
            "67 9 140\n",
            "False\n",
            "{67, 35, 5, 9, 29}\n"
          ]
        }
      ]
    }
  ]
}