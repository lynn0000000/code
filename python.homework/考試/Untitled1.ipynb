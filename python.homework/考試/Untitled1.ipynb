{
  "nbformat": 4,
  "nbformat_minor": 0,
  "metadata": {
    "colab": {
      "provenance": []
    },
    "kernelspec": {
      "name": "python3",
      "display_name": "Python 3"
    },
    "language_info": {
      "name": "python"
    }
  },
  "cells": [
    {
      "cell_type": "markdown",
      "source": [
        "4-1"
      ],
      "metadata": {
        "id": "csGhXtn7QTZ5"
      }
    },
    {
      "cell_type": "code",
      "execution_count": null,
      "metadata": {
        "colab": {
          "base_uri": "https://localhost:8080/"
        },
        "id": "lj3BoIL7QOiy",
        "outputId": "0e490b02-f474-4449-cf70-12b3fcad7a46"
      },
      "outputs": [
        {
          "output_type": "stream",
          "name": "stdout",
          "text": [
            "[1, 3, 5, 7, 9, 11, 13, 15, 17, 19]\n"
          ]
        }
      ],
      "source": [
        "#1\n",
        "print( list(range(1,21,2)) )"
      ]
    },
    {
      "cell_type": "code",
      "source": [
        "#2\n",
        "str1='machineLearning'\n",
        "print( list(str1) )"
      ],
      "metadata": {
        "colab": {
          "base_uri": "https://localhost:8080/"
        },
        "id": "hfBtZqOHQe9W",
        "outputId": "4109aab5-0252-4d0a-a5bb-ba5827daaa63"
      },
      "execution_count": null,
      "outputs": [
        {
          "output_type": "stream",
          "name": "stdout",
          "text": [
            "['m', 'a', 'c', 'h', 'i', 'n', 'e', 'L', 'e', 'a', 'r', 'n', 'i', 'n', 'g']\n"
          ]
        }
      ]
    },
    {
      "cell_type": "code",
      "source": [
        "#3\n",
        "\n",
        "##a\n",
        "print( list(range(100,122,2)) ) \n",
        "\n",
        "##b\n",
        "print( list(range(-1,-10,-1)) )\n",
        "\n",
        "##c\n",
        "print( list(range(-1,-20,-3)) )\n",
        "\n",
        "##d\n",
        "print( list(range(10,65,9)) )"
      ],
      "metadata": {
        "colab": {
          "base_uri": "https://localhost:8080/"
        },
        "id": "nZOdj9JQRC0N",
        "outputId": "14283d2d-8629-43b1-b7c9-8197dc051182"
      },
      "execution_count": null,
      "outputs": [
        {
          "output_type": "stream",
          "name": "stdout",
          "text": [
            "[100, 102, 104, 106, 108, 110, 112, 114, 116, 118, 120]\n",
            "[-1, -2, -3, -4, -5, -6, -7, -8, -9]\n",
            "[-1, -4, -7, -10, -13, -16, -19]\n",
            "[10, 19, 28, 37, 46, 55, 64]\n"
          ]
        }
      ]
    },
    {
      "cell_type": "code",
      "source": [
        "#4\n",
        "lst=[9,8,7,1,2,3,7,3,2]\n",
        "\n",
        "#a\n",
        "print( lst[0:3:1] )\n",
        "\n",
        "#b\n",
        "print( lst[-1:-4:-1] )\n",
        "\n",
        "#c\n",
        "print( lst[4:8] )\n",
        "\n",
        "#d\n",
        "print( lst[0:9:2] )\n",
        "\n",
        "#e\n",
        "print( len(lst) )\n",
        "print( max(lst) )\n",
        "print( min(lst) )\n",
        "\n",
        "#f\n",
        "print( lst[-1:-5:-1] )\n",
        "\n",
        "#g\n",
        "print( lst[::-1] )"
      ],
      "metadata": {
        "colab": {
          "base_uri": "https://localhost:8080/"
        },
        "id": "OFcpFnjGSjMO",
        "outputId": "b9d89ab2-688b-4bfc-ab26-5a6554cd9b28"
      },
      "execution_count": null,
      "outputs": [
        {
          "output_type": "stream",
          "name": "stdout",
          "text": [
            "[9, 8, 7]\n",
            "[2, 3, 7]\n",
            "[2, 3, 7, 3]\n",
            "[9, 7, 2, 7, 2]\n",
            "9\n",
            "9\n",
            "1\n",
            "[2, 3, 7, 3]\n",
            "[2, 3, 7, 3, 2, 1, 7, 8, 9]\n"
          ]
        }
      ]
    },
    {
      "cell_type": "code",
      "source": [
        "#5\n",
        "lst=[43,12,12,34]\n",
        "\n",
        "#a\n",
        "lst.extend([2,12])\n",
        "print(lst)\n",
        "print(lst.count(12))\n",
        "\n",
        "#b\n",
        "lst=[43,12,12,34]\n",
        "lst.append([25,99])\n",
        "print(lst)\n",
        "\n",
        "#c\n",
        "lst=[43,12,12,34]\n",
        "lst.insert(2,65)\n",
        "print(lst)\n",
        "\n",
        "#d\n",
        "lst=[43,12,12,34]\n",
        "lst.remove(12)\n",
        "print(lst)\n",
        "\n",
        "#e\n",
        "lst=[43,12,12,34]\n",
        "lst.sort(reverse=True)\n",
        "print(lst)\n",
        "\n",
        "#f\n",
        "lst=[43,12,12,34]\n",
        "lst.pop()\n",
        "lst.pop(2)\n",
        "print(lst)"
      ],
      "metadata": {
        "colab": {
          "base_uri": "https://localhost:8080/"
        },
        "id": "F5csWBKVWPNJ",
        "outputId": "cca64121-26dd-4a8a-81ad-1ccb52511d98"
      },
      "execution_count": null,
      "outputs": [
        {
          "output_type": "stream",
          "name": "stdout",
          "text": [
            "[43, 12, 12, 34, 2, 12]\n",
            "3\n",
            "[43, 12, 12, 34, [25, 99]]\n",
            "[43, 12, 65, 12, 34]\n",
            "[43, 12, 34]\n",
            "[43, 34, 12, 12]\n",
            "[43, 12]\n"
          ]
        }
      ]
    },
    {
      "cell_type": "code",
      "source": [
        "#6\n",
        "lst=[12,43,83,91]\n",
        "a=list\n",
        "lst.append(23)\n",
        "print(lst)\n",
        "print('因為list等於a，所以list跟a指向的是同一個串列，當list被更改時，a也會跟著更改')"
      ],
      "metadata": {
        "colab": {
          "base_uri": "https://localhost:8080/"
        },
        "id": "r5VF9Oj10vez",
        "outputId": "cfe2dd75-c3f9-4c55-9897-c2b58383452f"
      },
      "execution_count": null,
      "outputs": [
        {
          "output_type": "stream",
          "name": "stdout",
          "text": [
            "[12, 43, 83, 91, 23]\n",
            "因為list等於a，所以list跟a指向的是同一個串列，當list被更改時，a也會跟著更改\n"
          ]
        }
      ]
    },
    {
      "cell_type": "code",
      "source": [
        "#7\n",
        "lst=[[17,21],[98,12],[33,[44,[21,38,35]]],[35,42]]\n",
        "\n",
        "#a\n",
        "print(lst[0])\n",
        "\n",
        "#b\n",
        "print(lst[0][1])\n",
        "#提取索引為1的子串列中，索引為0的元素\n",
        "\n",
        "#c\n",
        "print(lst[2][0])\n",
        "\n",
        "#d\n",
        "print(lst[3])\n",
        "\n",
        "#e\n",
        "print(lst[1][0])\n",
        "\n",
        "#f\n",
        "a=(lst[2][1])\n",
        "#a=[44,[21,38,35]]\n",
        "print(a[0])\n",
        "\n",
        "#g\n",
        "a=(lst[2][1])\n",
        "#a=[44,[21,38,35]]\n",
        "print(a[1])\n",
        "\n",
        "#h\n",
        "a=(lst[2][1])\n",
        "#a=[44,[21,38,35]]\n",
        "print(a[1][1:])\n",
        "\n",
        "#i\n",
        "a=(lst[2][1])\n",
        "#a=[44,[21,38,35]]\n",
        "print(a[1][:2])\n",
        "\n",
        "#j\n",
        "a=(lst[2][1])\n",
        "#a=[44,[21,38,35]]\n",
        "print(a[1][1])\n",
        "\n",
        "#k\n",
        "print(lst[0],lst[1])\n",
        "\n",
        "#l\n",
        "print(lst[2][1])"
      ],
      "metadata": {
        "colab": {
          "base_uri": "https://localhost:8080/"
        },
        "id": "G-dJa-Ro2BY0",
        "outputId": "a3eb1d0a-3fe5-4a07-80be-57ba85f44bfe"
      },
      "execution_count": null,
      "outputs": [
        {
          "output_type": "stream",
          "name": "stdout",
          "text": [
            "[17, 21]\n",
            "21\n",
            "33\n",
            "[35, 42]\n",
            "98\n",
            "44\n",
            "[21, 38, 35]\n",
            "[38, 35]\n",
            "[21, 38]\n",
            "38\n",
            "[17, 21] [98, 12]\n",
            "[44, [21, 38, 35]]\n"
          ]
        }
      ]
    },
    {
      "cell_type": "code",
      "source": [
        "#8\n",
        "\n",
        "#a\n",
        "print(tuple((31,22)))\n",
        "\n",
        "#b\n",
        "print(tuple((21,)))\n",
        "\n",
        "#c\n",
        "print(tuple( (range(45,49)) ))\n",
        "\n",
        "#d\n",
        "print(tuple( ('cat')) )\n",
        "\n",
        "#e\n",
        "print(tuple( ('cat',)) )\n",
        "\n",
        "#f\n",
        "print(tuple( (range(9,2,-1))) )\n",
        "\n",
        "#g\n",
        "print(tuple( (38,(35,)) ) )\n",
        "\n",
        "#h\n",
        "print(tuple( (0,0,0,0,0)) )"
      ],
      "metadata": {
        "colab": {
          "base_uri": "https://localhost:8080/"
        },
        "id": "6Ztszalu7zZn",
        "outputId": "4602979d-4f00-4e66-9613-a491104245d3"
      },
      "execution_count": null,
      "outputs": [
        {
          "output_type": "stream",
          "name": "stdout",
          "text": [
            "(31, 22)\n",
            "(21,)\n",
            "(45, 46, 47, 48)\n",
            "('c', 'a', 't')\n",
            "('cat',)\n",
            "(9, 8, 7, 6, 5, 4, 3)\n",
            "(38, (35,))\n",
            "(0, 0, 0, 0, 0)\n"
          ]
        }
      ]
    }
  ]
}