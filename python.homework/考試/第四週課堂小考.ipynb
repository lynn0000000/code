{
  "nbformat": 4,
  "nbformat_minor": 0,
  "metadata": {
    "colab": {
      "name": "quiz3_Q.ipynb",
      "provenance": []
    },
    "kernelspec": {
      "name": "python3",
      "display_name": "Python 3"
    },
    "language_info": {
      "name": "python"
    }
  },
  "cells": [
    {
      "cell_type": "code",
      "metadata": {
        "id": "PSejczKli8az"
      },
      "source": [
        "import math\n",
        "import random"
      ],
      "execution_count": null,
      "outputs": []
    },
    {
      "cell_type": "markdown",
      "metadata": {
        "id": "ZXzEDcY0bSkw"
      },
      "source": [
        "#**請將答案填在code cell**"
      ]
    },
    {
      "cell_type": "markdown",
      "metadata": {
        "id": "kxEEXUcEbVlP"
      },
      "source": [
        "1.\t試計算3,6,9,15的最大公因數"
      ]
    },
    {
      "cell_type": "code",
      "metadata": {
        "id": "nddm3bnNbgMO"
      },
      "source": [
        ""
      ],
      "execution_count": null,
      "outputs": []
    },
    {
      "cell_type": "markdown",
      "metadata": {
        "id": "HRNk3gFVbgVQ"
      },
      "source": [
        "2.\t試將270°轉成弳度"
      ]
    },
    {
      "cell_type": "code",
      "metadata": {
        "id": "W0pP6bF4bgmj"
      },
      "source": [
        ""
      ],
      "execution_count": null,
      "outputs": []
    },
    {
      "cell_type": "markdown",
      "metadata": {
        "id": "0wpkEu55bunD"
      },
      "source": [
        "3.\t試完成下列各題(設每題的亂數種子皆為927)：\n",
        "\n"
      ]
    },
    {
      "cell_type": "code",
      "metadata": {
        "id": "vcpQEtDuu7eC"
      },
      "source": [
        ""
      ],
      "execution_count": null,
      "outputs": []
    },
    {
      "cell_type": "markdown",
      "metadata": {
        "id": "aOgwtusNb3Wj"
      },
      "source": [
        "    \n",
        "      (1)產生7個0到200之間的偶數亂數"
      ]
    },
    {
      "cell_type": "code",
      "metadata": {
        "id": "HaUPAn6XcE_P"
      },
      "source": [
        ""
      ],
      "execution_count": null,
      "outputs": []
    },
    {
      "cell_type": "markdown",
      "metadata": {
        "id": "bVXjrRcvbvGk"
      },
      "source": [
        "    \n",
        "      (2)從字串’HelloWorld’中隨機抽取3個字母"
      ]
    },
    {
      "cell_type": "code",
      "metadata": {
        "id": "_kry69r-bvRD"
      },
      "source": [
        ""
      ],
      "execution_count": null,
      "outputs": []
    },
    {
      "cell_type": "markdown",
      "metadata": {
        "id": "SfLUP4NpcSfE"
      },
      "source": [
        "      (3)試計算串列Inumber=[11,44,33,22,55]的平均值"
      ]
    },
    {
      "cell_type": "code",
      "metadata": {
        "id": "-RgT5HxkcaHX"
      },
      "source": [
        ""
      ],
      "execution_count": null,
      "outputs": []
    },
    {
      "cell_type": "markdown",
      "metadata": {
        "id": "n5bXRhiWcacR"
      },
      "source": [
        "      (4)設my_list=[1,2,4,7,10]，試找出my_list中最大值與最小值"
      ]
    },
    {
      "cell_type": "code",
      "metadata": {
        "id": "Hc3alLALcfYm"
      },
      "source": [
        ""
      ],
      "execution_count": null,
      "outputs": []
    },
    {
      "cell_type": "markdown",
      "metadata": {
        "id": "cMVFa2c2co-D"
      },
      "source": [
        "4.\t設str1=’歡迎加入臺中科技大學資訊工程系’\n",
        "\n"
      ]
    },
    {
      "cell_type": "markdown",
      "metadata": {
        "id": "ZOniz52hc4sN"
      },
      "source": [
        "      (1)試提取出資訊工程系這個子字串"
      ]
    },
    {
      "cell_type": "code",
      "metadata": {
        "id": "-mr1Tn8wc3z7"
      },
      "source": [
        ""
      ],
      "execution_count": null,
      "outputs": []
    },
    {
      "cell_type": "markdown",
      "metadata": {
        "id": "avZCZiC-dEw3"
      },
      "source": [
        "      (2)判別科技大學是否有在str1中"
      ]
    },
    {
      "cell_type": "code",
      "metadata": {
        "id": "eqH4FC1wdE6f"
      },
      "source": [
        ""
      ],
      "execution_count": null,
      "outputs": []
    },
    {
      "cell_type": "markdown",
      "metadata": {
        "id": "R5GtjUXUdMp_"
      },
      "source": [
        "      (3)試提取str1中第1個字元"
      ]
    },
    {
      "cell_type": "code",
      "metadata": {
        "id": "CbiDn4nKdNAe"
      },
      "source": [
        ""
      ],
      "execution_count": null,
      "outputs": []
    },
    {
      "cell_type": "markdown",
      "metadata": {
        "id": "O0z-HCZ-dTHs"
      },
      "source": [
        "      (4)請找出str1中，字元編碼最小的字元"
      ]
    },
    {
      "cell_type": "code",
      "metadata": {
        "id": "8SfmDpLNdTO8"
      },
      "source": [
        ""
      ],
      "execution_count": null,
      "outputs": []
    }
  ]
}