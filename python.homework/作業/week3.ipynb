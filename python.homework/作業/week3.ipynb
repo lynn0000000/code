{
  "nbformat": 4,
  "nbformat_minor": 0,
  "metadata": {
    "colab": {
      "provenance": []
    },
    "kernelspec": {
      "name": "python3",
      "display_name": "Python 3"
    },
    "language_info": {
      "name": "python"
    }
  },
  "cells": [
    {
      "cell_type": "markdown",
      "source": [
        "3-1"
      ],
      "metadata": {
        "id": "DsD-bytLP_Bd"
      }
    },
    {
      "cell_type": "markdown",
      "source": [
        "#3##6還沒寫"
      ],
      "metadata": {
        "id": "K5UMOy8Wbukt"
      }
    },
    {
      "cell_type": "code",
      "source": [
        "#1\n",
        "print(max(12,81,93,27))\n",
        "print(min(12,81,93,27))"
      ],
      "metadata": {
        "colab": {
          "base_uri": "https://localhost:8080/"
        },
        "id": "VSU6bKZ6QEre",
        "outputId": "3e59528a-990a-43ed-ce70-52e818e2f8d9"
      },
      "execution_count": null,
      "outputs": [
        {
          "output_type": "stream",
          "name": "stdout",
          "text": [
            "93\n",
            "12\n"
          ]
        }
      ]
    },
    {
      "cell_type": "code",
      "source": [
        "#2\n",
        "print( pow(2,1024) )"
      ],
      "metadata": {
        "colab": {
          "base_uri": "https://localhost:8080/"
        },
        "id": "4R-Y4MarQfvi",
        "outputId": "8a312386-cf15-4758-d0a7-f6f29cdb80a5"
      },
      "execution_count": null,
      "outputs": [
        {
          "output_type": "stream",
          "name": "stdout",
          "text": [
            "179769313486231590772930519078902473361797697894230657273430081157732675805500963132708477322407536021120113879871393357658789768814416622492847430639474124377767893424865485276302219601246094119453082952085005768838150682342462881473913110540827237163350510684586298239947245938479716304835356329624224137216\n"
          ]
        }
      ]
    },
    {
      "cell_type": "code",
      "source": [
        "#3\n",
        "##1\n",
        "import math\n",
        "print( math.sin(2.5) + math.exp(1.4) )"
      ],
      "metadata": {
        "colab": {
          "base_uri": "https://localhost:8080/"
        },
        "id": "9ou0NP_-Q1YM",
        "outputId": "060b983b-2d18-4065-cda8-6d70417cbb3d"
      },
      "execution_count": null,
      "outputs": [
        {
          "output_type": "stream",
          "name": "stdout",
          "text": [
            "4.653672110948631\n"
          ]
        }
      ]
    },
    {
      "cell_type": "code",
      "source": [
        "##2\n",
        "print( math.ceil( pow(6.3,2)-0.5 ) ) "
      ],
      "metadata": {
        "colab": {
          "base_uri": "https://localhost:8080/"
        },
        "id": "R3gVY3xVRdA8",
        "outputId": "25925965-40fe-4af9-9f4d-e5d77f7bd1c6"
      },
      "execution_count": null,
      "outputs": [
        {
          "output_type": "stream",
          "name": "stdout",
          "text": [
            "40\n"
          ]
        }
      ]
    },
    {
      "cell_type": "code",
      "source": [
        "##3\n",
        "print( math.ceil( math.cos( pow(0.5,2)) + math.sqrt(2) ) )"
      ],
      "metadata": {
        "colab": {
          "base_uri": "https://localhost:8080/"
        },
        "id": "Iak1jDFvSasb",
        "outputId": "6e51a2c2-91b8-445f-cf4c-00e365d3f6eb"
      },
      "execution_count": null,
      "outputs": [
        {
          "output_type": "stream",
          "name": "stdout",
          "text": [
            "3\n"
          ]
        }
      ]
    },
    {
      "cell_type": "code",
      "source": [
        "##4\n",
        "a=( math.gcd(6,8) )\n",
        "b=( math.gcd(6,12) )\n",
        "c=( math.gcd(2,12) )\n",
        "max( a,b,c )"
      ],
      "metadata": {
        "colab": {
          "base_uri": "https://localhost:8080/"
        },
        "id": "hIq8aZsvTS0v",
        "outputId": "1ec806e8-0f67-4807-8a8f-76004692847b"
      },
      "execution_count": null,
      "outputs": [
        {
          "output_type": "execute_result",
          "data": {
            "text/plain": [
              "6"
            ]
          },
          "metadata": {},
          "execution_count": 15
        }
      ]
    },
    {
      "cell_type": "code",
      "source": [
        "##5\n",
        "#inf為無窮大\n",
        "print( math.inf - 2*math.inf )"
      ],
      "metadata": {
        "colab": {
          "base_uri": "https://localhost:8080/"
        },
        "id": "LssfHhJoVqcV",
        "outputId": "47fdfb6f-21b0-43a2-82fd-b3e2784304a1"
      },
      "execution_count": null,
      "outputs": [
        {
          "output_type": "stream",
          "name": "stdout",
          "text": [
            "nan\n"
          ]
        }
      ]
    },
    {
      "cell_type": "code",
      "source": [
        "##6\n",
        "#i等於虛數(根號負1)\n",
        "print( math.exp( math.sqrt(-1) * math.pi ) )"
      ],
      "metadata": {
        "colab": {
          "base_uri": "https://localhost:8080/",
          "height": 202
        },
        "id": "r_j0CHG6Y5x2",
        "outputId": "cffa7aa6-ec9f-4279-b41d-012a28189baf"
      },
      "execution_count": null,
      "outputs": [
        {
          "output_type": "error",
          "ename": "ValueError",
          "evalue": "ignored",
          "traceback": [
            "\u001b[0;31m---------------------------------------------------------------------------\u001b[0m",
            "\u001b[0;31mValueError\u001b[0m                                Traceback (most recent call last)",
            "\u001b[0;32m<ipython-input-126-1f9fd1cfeb7c>\u001b[0m in \u001b[0;36m<module>\u001b[0;34m\u001b[0m\n\u001b[1;32m      1\u001b[0m \u001b[0;31m##6\u001b[0m\u001b[0;34m\u001b[0m\u001b[0;34m\u001b[0m\u001b[0;34m\u001b[0m\u001b[0m\n\u001b[1;32m      2\u001b[0m \u001b[0;31m#i等於虛數(根號負1)\u001b[0m\u001b[0;34m\u001b[0m\u001b[0;34m\u001b[0m\u001b[0;34m\u001b[0m\u001b[0m\n\u001b[0;32m----> 3\u001b[0;31m \u001b[0mprint\u001b[0m\u001b[0;34m(\u001b[0m \u001b[0mmath\u001b[0m\u001b[0;34m.\u001b[0m\u001b[0mexp\u001b[0m\u001b[0;34m(\u001b[0m \u001b[0mmath\u001b[0m\u001b[0;34m.\u001b[0m\u001b[0msqrt\u001b[0m\u001b[0;34m(\u001b[0m\u001b[0;34m-\u001b[0m\u001b[0;36m1\u001b[0m\u001b[0;34m)\u001b[0m \u001b[0;34m*\u001b[0m \u001b[0mmath\u001b[0m\u001b[0;34m.\u001b[0m\u001b[0mpi\u001b[0m \u001b[0;34m)\u001b[0m \u001b[0;34m)\u001b[0m\u001b[0;34m\u001b[0m\u001b[0;34m\u001b[0m\u001b[0m\n\u001b[0m",
            "\u001b[0;31mValueError\u001b[0m: math domain error"
          ]
        }
      ]
    },
    {
      "cell_type": "code",
      "source": [
        "##7\n",
        "print( math.log2(1024) )"
      ],
      "metadata": {
        "colab": {
          "base_uri": "https://localhost:8080/"
        },
        "id": "r7K49hBGbmSR",
        "outputId": "72a4d57e-d36f-410d-f710-da2d56d2f2e9"
      },
      "execution_count": null,
      "outputs": [
        {
          "output_type": "stream",
          "name": "stdout",
          "text": [
            "10.0\n"
          ]
        }
      ]
    },
    {
      "cell_type": "code",
      "source": [
        "##8\n",
        "print( math.log( math.pow(49,3) ,7) )"
      ],
      "metadata": {
        "colab": {
          "base_uri": "https://localhost:8080/"
        },
        "id": "fe2MQctYhFrd",
        "outputId": "6aa6e18a-d069-4326-ad5a-5ffbeb229e65"
      },
      "execution_count": null,
      "outputs": [
        {
          "output_type": "stream",
          "name": "stdout",
          "text": [
            "6.0\n"
          ]
        }
      ]
    },
    {
      "cell_type": "code",
      "source": [
        "##9\n",
        "print( math.asin(-0.7) + math.atan( math.pow(math.pi,2) ) )"
      ],
      "metadata": {
        "colab": {
          "base_uri": "https://localhost:8080/"
        },
        "id": "FSJ9nn1vhbTH",
        "outputId": "3e3b2eca-0934-42d8-84cd-ff8d155d8752"
      },
      "execution_count": null,
      "outputs": [
        {
          "output_type": "stream",
          "name": "stdout",
          "text": [
            "0.6944222469134894\n"
          ]
        }
      ]
    },
    {
      "cell_type": "code",
      "source": [
        "#4\n",
        "print( math.radians(105) )"
      ],
      "metadata": {
        "colab": {
          "base_uri": "https://localhost:8080/"
        },
        "id": "c8hFIZwoiwNz",
        "outputId": "f2e07463-0974-490f-954a-be11b982696d"
      },
      "execution_count": null,
      "outputs": [
        {
          "output_type": "stream",
          "name": "stdout",
          "text": [
            "1.8325957145940461\n"
          ]
        }
      ]
    },
    {
      "cell_type": "code",
      "source": [
        "#5\n",
        "r=3.2\n",
        "ball_V=(4/3)*math.pi*math.pow(r,3)\n",
        "ball_A=4*math.pi*math.pow(r,2)\n",
        "print(ball_V,ball_A)"
      ],
      "metadata": {
        "colab": {
          "base_uri": "https://localhost:8080/"
        },
        "id": "UjHvN4xdjCHS",
        "outputId": "e7d35cd0-7274-4973-9c35-08be73612a62"
      },
      "execution_count": null,
      "outputs": [
        {
          "output_type": "stream",
          "name": "stdout",
          "text": [
            "137.25827743044047 128.67963509103794\n"
          ]
        }
      ]
    },
    {
      "cell_type": "markdown",
      "source": [
        "3-2"
      ],
      "metadata": {
        "id": "AGWKEWtdmrfQ"
      }
    },
    {
      "cell_type": "code",
      "source": [
        "#6\n",
        "import random\n",
        "\n",
        "##1\n",
        "print(random.random())\n",
        "\n",
        "##2\n",
        "print(random.sample('Significant',3))\n",
        "\n",
        "##3\n",
        "print(random.randint(1,6))\n",
        "\n",
        "##4\n",
        "print(random.randrange(0,11,2))\n",
        "\n",
        "##5\n",
        "print(random.uniform(-1,1))"
      ],
      "metadata": {
        "colab": {
          "base_uri": "https://localhost:8080/"
        },
        "id": "lzFZPeSpkulW",
        "outputId": "2c3eb709-94d8-4912-8230-63510e5008b2"
      },
      "execution_count": null,
      "outputs": [
        {
          "output_type": "stream",
          "name": "stdout",
          "text": [
            "0.6353679654248896\n",
            "['i', 't', 'S']\n",
            "1\n",
            "6\n",
            "-0.830232031676019\n"
          ]
        }
      ]
    },
    {
      "cell_type": "code",
      "source": [
        "#7\n",
        "import random\n",
        "random.seed(37)\n",
        "\n",
        "##1\n",
        "print(random.randint(0,100))\n",
        "\n",
        "##2\n",
        "print(random.sample('Halloween',4))\n",
        "\n",
        "##3\n",
        "print(random.sample([12,38,54,64,77,29],2))\n",
        "\n",
        "##4\n",
        "my_list=[2,3,5,8,9]\n",
        "random.shuffle(my_list)\n",
        "print(my_list)"
      ],
      "metadata": {
        "colab": {
          "base_uri": "https://localhost:8080/"
        },
        "id": "DoD4Vt5iml3H",
        "outputId": "af007b28-453b-46c5-8f18-1849da7db1d9"
      },
      "execution_count": 5,
      "outputs": [
        {
          "output_type": "stream",
          "name": "stdout",
          "text": [
            "87\n",
            "['a', 'H', 'w', 'l']\n",
            "[64, 77]\n",
            "[9, 3, 5, 8, 2]\n"
          ]
        }
      ]
    },
    {
      "cell_type": "markdown",
      "source": [
        "3-3"
      ],
      "metadata": {
        "id": "rfT1nIKApmQB"
      }
    },
    {
      "cell_type": "code",
      "source": [
        "#8\n",
        "##1\n",
        "\n",
        "print('\\u5ed6')\n",
        "print('\\u66c9')\n",
        "print('\\u7fce')"
      ],
      "metadata": {
        "colab": {
          "base_uri": "https://localhost:8080/"
        },
        "id": "NJkWj8mHpon9",
        "outputId": "6870cb48-88e1-4961-beb2-a72256de58f0"
      },
      "execution_count": 22,
      "outputs": [
        {
          "output_type": "stream",
          "name": "stdout",
          "text": [
            "廖\n",
            "曉\n",
            "翎\n"
          ]
        }
      ]
    },
    {
      "cell_type": "code",
      "source": [
        "#8\n",
        "##2\n",
        "print(int('0x5ed6',16))\n",
        "print(int('0x66c9',16))\n",
        "print(int('0x7fce',16))"
      ],
      "metadata": {
        "colab": {
          "base_uri": "https://localhost:8080/"
        },
        "id": "d-m4tbj8a7lB",
        "outputId": "343ca5b9-c1aa-408f-8946-1cab2e7dfa7a"
      },
      "execution_count": 20,
      "outputs": [
        {
          "output_type": "stream",
          "name": "stdout",
          "text": [
            "24278\n",
            "26313\n",
            "32718\n"
          ]
        }
      ]
    },
    {
      "cell_type": "code",
      "source": [
        "#8\n",
        "##3\n",
        "print(ord('廖'))\n",
        "print(ord('曉'))\n",
        "print(ord('翎'))"
      ],
      "metadata": {
        "colab": {
          "base_uri": "https://localhost:8080/"
        },
        "id": "qHQGXuYkbgsm",
        "outputId": "a89bf5b1-f5f7-4042-97ad-c981f36defae"
      },
      "execution_count": 21,
      "outputs": [
        {
          "output_type": "stream",
          "name": "stdout",
          "text": [
            "24278\n",
            "26313\n",
            "32718\n"
          ]
        }
      ]
    },
    {
      "cell_type": "code",
      "source": [
        "#8\n",
        "##4\n",
        "print(hex(24278))\n",
        "print(hex(26313))\n",
        "print(hex(32718))"
      ],
      "metadata": {
        "id": "5w3OTKN_ppcA",
        "colab": {
          "base_uri": "https://localhost:8080/"
        },
        "outputId": "fd8590a2-ef05-48f1-e96e-7ec582d2e2a9"
      },
      "execution_count": 24,
      "outputs": [
        {
          "output_type": "stream",
          "name": "stdout",
          "text": [
            "0x5ed6\n",
            "0x66c9\n",
            "0x7fce\n"
          ]
        }
      ]
    },
    {
      "cell_type": "code",
      "source": [
        "#10\n",
        "'*^_^*'*10"
      ],
      "metadata": {
        "id": "mvgqOLbQpqnW",
        "colab": {
          "base_uri": "https://localhost:8080/",
          "height": 35
        },
        "outputId": "51e8fa87-b7ce-4d83-af35-22be9936af05"
      },
      "execution_count": 26,
      "outputs": [
        {
          "output_type": "execute_result",
          "data": {
            "text/plain": [
              "'*^_^**^_^**^_^**^_^**^_^**^_^**^_^**^_^**^_^**^_^*'"
            ],
            "application/vnd.google.colaboratory.intrinsic+json": {
              "type": "string"
            }
          },
          "metadata": {},
          "execution_count": 26
        }
      ]
    },
    {
      "cell_type": "code",
      "source": [
        "#11\n",
        "##1\n",
        "s1='Have a nice day'\n",
        "print(s1[7:11])\n",
        "\n",
        "##2\n",
        "print('day' in s1 )\n",
        "\n",
        "##3\n",
        "print(s1[-1])\n",
        "\n",
        "##4\n",
        "print('H'>'a','a'>'v','v'>'e','v'>'n','v'>'i','v'>'c','v'>'d','v'>'y' )\n",
        "print('y為字元編碼最大的字元')"
      ],
      "metadata": {
        "id": "tVHJz9QIprZR",
        "colab": {
          "base_uri": "https://localhost:8080/"
        },
        "outputId": "f4738511-f824-47c3-fc6e-228aeb8840af"
      },
      "execution_count": 47,
      "outputs": [
        {
          "output_type": "stream",
          "name": "stdout",
          "text": [
            "nice\n",
            "True\n",
            "y\n",
            "False False True True True True True False\n",
            "y為字元編碼最大的字元\n"
          ]
        }
      ]
    },
    {
      "cell_type": "markdown",
      "source": [
        "3-4"
      ],
      "metadata": {
        "id": "bU3WU5lLpr-Z"
      }
    },
    {
      "cell_type": "code",
      "source": [
        "#12\n",
        "s1='It is never too late to learn'\n",
        "\n",
        "##1\n",
        "print(s1.title())\n",
        "\n",
        "##2\n",
        "print(s1.capitalize())\n",
        "\n",
        "##3\n",
        "print(s1.isalpha())\n",
        "#有空白字元所以不全是英文字母\n",
        "\n",
        "##4\n",
        "print(s1.count('e'))\n",
        "\n",
        "##5\n",
        "print(s1.replace('never',''))\n",
        "\n",
        "##6\n",
        "print(s1.replace('late','LATE'))\n",
        "\n"
      ],
      "metadata": {
        "id": "gwfQ4eyJpthx",
        "colab": {
          "base_uri": "https://localhost:8080/"
        },
        "outputId": "af830489-62e8-4aea-8a2c-b13438d32143"
      },
      "execution_count": 77,
      "outputs": [
        {
          "output_type": "stream",
          "name": "stdout",
          "text": [
            "It Is Never Too Late To Learn\n",
            "It is never too late to learn\n",
            "False\n",
            "4\n",
            "It is  too late to learn\n",
            "It is never too LATE to learn\n"
          ]
        }
      ]
    },
    {
      "cell_type": "code",
      "source": [
        "#13\n",
        "s2='cat and dogs'\n",
        "print(s2.replace('cat and dogs','CatAndDogs'))"
      ],
      "metadata": {
        "id": "08OX7lNNpu3I",
        "colab": {
          "base_uri": "https://localhost:8080/"
        },
        "outputId": "93582c9a-6630-4c03-a5a5-17e48cacd6df"
      },
      "execution_count": 84,
      "outputs": [
        {
          "output_type": "stream",
          "name": "stdout",
          "text": [
            "CatAndDogs\n"
          ]
        }
      ]
    },
    {
      "cell_type": "code",
      "source": [
        "#14\n",
        "s1='*^_^*Python*w_w*'\n",
        "print(s1.strip('*^_w'))"
      ],
      "metadata": {
        "id": "IqYe48Nxpvos",
        "colab": {
          "base_uri": "https://localhost:8080/"
        },
        "outputId": "2412ea20-e7a3-44a5-e6c3-45af5c42909a"
      },
      "execution_count": 86,
      "outputs": [
        {
          "output_type": "stream",
          "name": "stdout",
          "text": [
            "Python\n"
          ]
        }
      ]
    },
    {
      "cell_type": "code",
      "source": [
        "#15\n",
        "s1=' Peggy Chen  '\n",
        "print(s1.strip())"
      ],
      "metadata": {
        "id": "c_4ztuG5pwRI",
        "colab": {
          "base_uri": "https://localhost:8080/"
        },
        "outputId": "6244d439-a41e-4ae9-f6aa-b89b8e19a8ad"
      },
      "execution_count": 90,
      "outputs": [
        {
          "output_type": "stream",
          "name": "stdout",
          "text": [
            "Peggy Chen\n"
          ]
        }
      ]
    },
    {
      "cell_type": "code",
      "source": [
        "#16\n",
        "a=16;b=21.5639\n",
        "##1\n",
        "print(f'a={a:>8.2f}, b={b:>8.3f}')\n",
        "\n",
        "##2\n",
        "print(f'a={a:>8}, b={b:08.3f}')\n",
        "\n",
        "##3\n",
        "print(f'a={a:<+8.1f}, b={b:+8.3f}')\n",
        "\n",
        "##4\n",
        "print(f'a={a:>#x}, b={b:>8.0f}')\n",
        "\n",
        "##5\n",
        "print(f'a={a:>#o},b={b:+08.2f}')\n",
        "\n",
        "##6\n",
        "print(f'a={{{a:#o}}},b={b:5.2f}')\n",
        "\n",
        "##7\n",
        "print(f'a=\\'{a:#o}\\',b={b:8.5f}')\n",
        "\n",
        "##8\n",
        "print(f'a={{\\'{a:#o}\\'}},b=\\'{{{b:5.2f}}}\\'')"
      ],
      "metadata": {
        "id": "Nnc6qCTqpxjO",
        "colab": {
          "base_uri": "https://localhost:8080/"
        },
        "outputId": "1d9d43b8-c3fd-40a9-e045-af593527e6a1"
      },
      "execution_count": 146,
      "outputs": [
        {
          "output_type": "stream",
          "name": "stdout",
          "text": [
            "a=   16.00, b=  21.564\n",
            "a=      16, b=0021.564\n",
            "a=+16.0   , b= +21.564\n",
            "a=0x10, b=      22\n",
            "a=0o20,b=+0021.56\n",
            "a={0o20},b=21.56\n",
            "a='0o20',b=21.56390\n",
            "a={'0o20'},b='{21.56}'\n"
          ]
        }
      ]
    }
  ]
}