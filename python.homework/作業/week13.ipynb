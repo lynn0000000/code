{
 "cells": [
  {
   "cell_type": "markdown",
   "metadata": {},
   "source": [
    "7-3類別函數含靜態函數"
   ]
  },
  {
   "cell_type": "code",
   "execution_count": 156,
   "metadata": {},
   "outputs": [],
   "source": [
    "#1\n",
    "class Employee:\n",
    "    payRate = [ 1 , 1.2 , 1.5 ]\n",
    "    baseSalary = 0\n",
    "    def __init__(self,base):\n",
    "        self.baseSalary = base\n",
    "        __class__.baseSalary = base\n",
    "    #1-a\n",
    "    @classmethod\n",
    "    def salary(cls,hr,bonus):\n",
    "        money = cls.baseSalary*hr*cls.payRate[bonus]\n",
    "        return int(money)\n",
    "    #1-b\n",
    "    @classmethod\n",
    "    def set_payRate(cls,new_payRate = list):\n",
    "        cls.payRate = new_payRate\n",
    "    #1-c\n",
    "    @staticmethod\n",
    "    def estimate(bs,hr,rate):\n",
    "        return int(bs*hr*rate)"
   ]
  },
  {
   "cell_type": "code",
   "execution_count": 157,
   "metadata": {},
   "outputs": [
    {
     "name": "stdout",
     "output_type": "stream",
     "text": [
      "1920\n",
      "2080\n",
      "2000\n"
     ]
    }
   ],
   "source": [
    "#1運行\n",
    "tom = Employee(160)\n",
    "print(tom.salary(10,1))\n",
    "Employee.set_payRate([1,1.3,1.5])\n",
    "print(tom.salary(10,1))\n",
    "print(Employee.estimate(160,10,1.25))\n"
   ]
  },
  {
   "cell_type": "code",
   "execution_count": 140,
   "metadata": {},
   "outputs": [],
   "source": [
    "#2\n",
    "class Factor:\n",
    "    factor_list = [2,3,6,8]\n",
    "    def __init__(self,num):\n",
    "        print(\"inital factor_list:\",Factor.factor_list)\n",
    "        self.num = num\n",
    "        __class__.num = num\n",
    "    #2-a\n",
    "    @classmethod\n",
    "    def find_factors(cls):\n",
    "        #找串列中那些數是n的因數\n",
    "        lst_n =[]\n",
    "        for i in Factor.factor_list:\n",
    "            if Factor.num%i == 0:\n",
    "                lst_n.append(i)\n",
    "        print (lst_n)\n",
    "    #2-b\n",
    "    @classmethod\n",
    "    def add_factors(cls,addlst = list):\n",
    "        for i in addlst:\n",
    "            if i not in cls.factor_list:\n",
    "                cls.factor_list.append(i)\n",
    "    #2-c\n",
    "    @classmethod\n",
    "    def remove_factors(cls,relst = list):\n",
    "        for i in relst:\n",
    "            if i in cls.factor_list:\n",
    "                cls.factor_list.remove(i)\n",
    "    #2-d\n",
    "    @classmethod\n",
    "    def show_factor_list(cls):\n",
    "        print(cls.factor_list)\n",
    "    #2-e\n",
    "    @staticmethod\n",
    "    def isfactor(num,n):\n",
    "        if num%n ==0:\n",
    "            return True\n",
    "        else:\n",
    "            return False\n",
    "\n",
    "\n"
   ]
  },
  {
   "cell_type": "code",
   "execution_count": 3,
   "metadata": {},
   "outputs": [
    {
     "name": "stdout",
     "output_type": "stream",
     "text": [
      "inital factor_list: [2, 3, 6, 8]\n",
      "[2, 3, 6]\n",
      "[2, 3, 6, 8, 9]\n",
      "[3, 6, 8, 9]\n",
      "[3, 6]\n"
     ]
    },
    {
     "data": {
      "text/plain": [
       "False"
      ]
     },
     "execution_count": 3,
     "metadata": {},
     "output_type": "execute_result"
    }
   ],
   "source": [
    "#2 運行結果\n",
    "f0 = Factor(60)\n",
    "f0.find_factors()\n",
    "Factor.add_factors([3,9])\n",
    "Factor.show_factor_list()\n",
    "Factor.remove_factors([2,4])\n",
    "Factor.show_factor_list()\n",
    "f0.find_factors()\n",
    "Factor.isfactor(45,8)"
   ]
  },
  {
   "cell_type": "markdown",
   "metadata": {},
   "source": [
    "7-4繼承"
   ]
  },
  {
   "cell_type": "code",
   "execution_count": 26,
   "metadata": {},
   "outputs": [],
   "source": [
    "#3\n",
    "class Car:\n",
    "    def __init__(self,color):\n",
    "        self.color = color\n",
    "    def show(self):\n",
    "        print(f\"color= {self.color}\")\n",
    "\n",
    "#3-1\n",
    "class Truck(Car):\n",
    "    def __init__(self,doors,owner,color):\n",
    "        self.doors = doors\n",
    "        self.owner = owner\n",
    "        super().__init__(color)\n",
    "    #3-2\n",
    "    def show(self):\n",
    "        print(f\"color={self.color},owner={self.owner},doors={self.doors}\")"
   ]
  },
  {
   "cell_type": "code",
   "execution_count": 33,
   "metadata": {},
   "outputs": [
    {
     "name": "stdout",
     "output_type": "stream",
     "text": [
      "color= red\n",
      "color=blue,owner=Tom,doors=2\n"
     ]
    }
   ],
   "source": [
    "#3運行\n",
    "Car(\"red\").show()\n",
    "Truck(2,\"Tom\",\"blue\").show()"
   ]
  },
  {
   "cell_type": "code",
   "execution_count": 44,
   "metadata": {},
   "outputs": [],
   "source": [
    "#4\n",
    "class Person:\n",
    "    def __init__(self,na):\n",
    "        self.name = na\n",
    "    def print_name(self):\n",
    "        print(self.name)\n",
    "class Student(Person):\n",
    "    def __init__(self, na,gender):\n",
    "        super().__init__(na)\n",
    "        self.gender = gender\n",
    "    def print_info(self):\n",
    "        print(f\"name={self.name},gendef={self.gender}\")\n",
    "    "
   ]
  },
  {
   "cell_type": "code",
   "execution_count": 158,
   "metadata": {},
   "outputs": [
    {
     "name": "stdout",
     "output_type": "stream",
     "text": [
      "Mary\n",
      "name=Mary,gendef=F\n"
     ]
    }
   ],
   "source": [
    "#4運行\n",
    "s0 = Student(\"Mary\",\"F\")\n",
    "s0.print_name()\n",
    "s0.print_info()"
   ]
  },
  {
   "cell_type": "markdown",
   "metadata": {},
   "source": [
    "7-5類別的進階認識"
   ]
  },
  {
   "cell_type": "code",
   "execution_count": 70,
   "metadata": {},
   "outputs": [],
   "source": [
    "#5\n",
    "class Triangle:\n",
    "    def __init__(self,base,height):\n",
    "        self.__base = base\n",
    "        self.__height = height\n",
    "    def area(self):\n",
    "        return 0.5 * self.__base *self.__height\n",
    "    def sat_base(self,base):\n",
    "        self.__base  = base"
   ]
  },
  {
   "cell_type": "code",
   "execution_count": 73,
   "metadata": {},
   "outputs": [
    {
     "data": {
      "text/plain": [
       "100.0"
      ]
     },
     "execution_count": 73,
     "metadata": {},
     "output_type": "execute_result"
    }
   ],
   "source": [
    "#5運行\n",
    "t0 = Triangle(10,5)\n",
    "t0.area()\n",
    "t0.__base = 40\n",
    "t0.area()\n",
    "# print(\"因為__base是私有屬性不能在外部被呼叫或存取\")\n",
    "t0.sat_base(40)\n",
    "t0.area()"
   ]
  },
  {
   "cell_type": "code",
   "execution_count": 129,
   "metadata": {},
   "outputs": [],
   "source": [
    "#6\n",
    "class Year:\n",
    "    def __init__(self,y):\n",
    "        self.__year = y\n",
    "    def isleap(self):\n",
    "        if self.__year % 400 == 0 or (self.__year % 4 ==0 and self.__year % 100 != 0):\n",
    "            print(True)\n",
    "        else:\n",
    "            print(False)\n",
    "    @property #修飾子 : 使用者仍然可以查看屬性但不能直接複寫屬性\n",
    "    def year(self):\n",
    "        print(self.__year)\n",
    "    @year.setter\n",
    "    def year(self,y):\n",
    "        self.__year = y\n",
    "\n"
   ]
  },
  {
   "cell_type": "code",
   "execution_count": 133,
   "metadata": {},
   "outputs": [
    {
     "name": "stdout",
     "output_type": "stream",
     "text": [
      "2022\n",
      "False\n",
      "2020\n",
      "True\n"
     ]
    }
   ],
   "source": [
    "#6運行\n",
    "y0 = Year(2022)\n",
    "y0.year\n",
    "y0.isleap()\n",
    "y0.year = 2020\n",
    "y0.year\n",
    "y0.isleap()\n"
   ]
  }
 ],
 "metadata": {
  "kernelspec": {
   "display_name": "Python 3.9.13 64-bit (microsoft store)",
   "language": "python",
   "name": "python3"
  },
  "language_info": {
   "codemirror_mode": {
    "name": "ipython",
    "version": 3
   },
   "file_extension": ".py",
   "mimetype": "text/x-python",
   "name": "python",
   "nbconvert_exporter": "python",
   "pygments_lexer": "ipython3",
   "version": "3.9.13"
  },
  "orig_nbformat": 4,
  "vscode": {
   "interpreter": {
    "hash": "6c74c21d66fcf30ed781ed93a5bd466f3e8f981da94f873abee0662ca5cef8b4"
   }
  }
 },
 "nbformat": 4,
 "nbformat_minor": 2
}
