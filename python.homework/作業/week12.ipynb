{
 "cells": [
  {
   "cell_type": "code",
   "execution_count": 34,
   "metadata": {},
   "outputs": [
    {
     "name": "stdout",
     "output_type": "stream",
     "text": [
      "是實例屬性\n"
     ]
    }
   ],
   "source": [
    "#1-1\n",
    "\n",
    "class Window:\n",
    "    def __init__(self,w=10,h=5):\n",
    "        self.width=w\n",
    "        self.height=h\n",
    "        \n",
    "w0 = Window(12,8)\n",
    "\n",
    "print(\"是實例屬性\")"
   ]
  },
  {
   "cell_type": "code",
   "execution_count": 28,
   "metadata": {},
   "outputs": [
    {
     "name": "stdout",
     "output_type": "stream",
     "text": [
      "True\n",
      "True\n"
     ]
    }
   ],
   "source": [
    "#1-2\n",
    "\n",
    "# w1 = Window'Instamce\n",
    "w1 = Window()\n",
    "\n",
    "print(hasattr(w1,\"width\"))\n",
    "\n",
    "print(hasattr(w1,\"height\"))\n"
   ]
  },
  {
   "cell_type": "code",
   "execution_count": 30,
   "metadata": {},
   "outputs": [],
   "source": [
    "#1-3\n",
    "setattr(w1,\"width\",16) # w1.width = 16\n",
    "\n",
    "setattr(w1,\"height\",7) #w1.height = 16"
   ]
  },
  {
   "cell_type": "code",
   "execution_count": 37,
   "metadata": {},
   "outputs": [
    {
     "data": {
      "text/plain": [
       "112"
      ]
     },
     "execution_count": 37,
     "metadata": {},
     "output_type": "execute_result"
    }
   ],
   "source": [
    "#1-4\n",
    "\n",
    "class Window:\n",
    "    def __init__(self,w=10,h=5):\n",
    "        self.width=w\n",
    "        self.height=h\n",
    "    \n",
    "    def compare(self,obj):\n",
    "        if self.width*self.height > obj.width*obj.height:\n",
    "            return self.width*self.height\n",
    "        else:\n",
    "            return obj.width*obj.height\n",
    "\n",
    "w0 = Window(12,8)\n",
    "w1 = Window(16,7)  \n",
    "\n",
    "w0.compare(w1)\n"
   ]
  },
  {
   "cell_type": "code",
   "execution_count": 46,
   "metadata": {},
   "outputs": [
    {
     "name": "stdout",
     "output_type": "stream",
     "text": [
      "True\n",
      "30\n",
      "price為類別屬性\n"
     ]
    }
   ],
   "source": [
    "#2-1\n",
    "\n",
    "class Pen():\n",
    "    price = 30\n",
    "\n",
    "p0 = Pen()\n",
    "\n",
    "print(hasattr(p0,\"price\"))\n",
    "\n",
    "print(getattr(p0,\"price\"))\n",
    "\n",
    "print(\"price為類別屬性\")"
   ]
  },
  {
   "cell_type": "code",
   "execution_count": 47,
   "metadata": {},
   "outputs": [
    {
     "name": "stdout",
     "output_type": "stream",
     "text": [
      "p0此時是實例屬性\n"
     ]
    }
   ],
   "source": [
    "#2-2\n",
    "p0.price = 45\n",
    "print(\"p0此時是實例屬性\")"
   ]
  },
  {
   "cell_type": "code",
   "execution_count": 50,
   "metadata": {},
   "outputs": [
    {
     "name": "stdout",
     "output_type": "stream",
     "text": [
      "Pen.price的值為30\n",
      "Pen.price是類別屬性\n"
     ]
    }
   ],
   "source": [
    "#2-3\n",
    "Pen.price\n",
    "\n",
    "print(\"Pen.price的值為30\")\n",
    "\n",
    "\n",
    "print(\"Pen.price是類別屬性\")"
   ]
  },
  {
   "cell_type": "code",
   "execution_count": 55,
   "metadata": {},
   "outputs": [
    {
     "data": {
      "text/plain": [
       "30"
      ]
     },
     "execution_count": 55,
     "metadata": {},
     "output_type": "execute_result"
    }
   ],
   "source": [
    "#2-4\n",
    "p1 = Pen()\n",
    "getattr(p1,\"price\")"
   ]
  },
  {
   "cell_type": "code",
   "execution_count": 61,
   "metadata": {},
   "outputs": [
    {
     "name": "stdout",
     "output_type": "stream",
     "text": [
      "45\n",
      "50\n",
      "前面設定了 p0 = 45， p0指向自己的price屬性\n",
      "p1沒有自己的price屬性，所以p1.price會提取類別屬性price\n"
     ]
    }
   ],
   "source": [
    "#2-5\n",
    "\n",
    "Pen.price = 50\n",
    "\n",
    "print(getattr(p0,\"price\"))\n",
    "print(getattr(p1,\"price\"))\n",
    "print(\"前面設定了 p0 = 45， p0指向自己的price屬性\")\n",
    "print(\"p1沒有自己的price屬性，所以p1.price會提取類別屬性price\")"
   ]
  },
  {
   "cell_type": "code",
   "execution_count": 73,
   "metadata": {},
   "outputs": [
    {
     "name": "stdout",
     "output_type": "stream",
     "text": [
      "Tom\n",
      "89\n"
     ]
    }
   ],
   "source": [
    "#3-1\n",
    "class Student:\n",
    "    def __init__(self,na,gr):\n",
    "        self.name = na\n",
    "        self.grade = gr\n"
   ]
  },
  {
   "cell_type": "code",
   "execution_count": 74,
   "metadata": {},
   "outputs": [
    {
     "name": "stdout",
     "output_type": "stream",
     "text": [
      "Tom\n",
      "89\n"
     ]
    }
   ],
   "source": [
    "#3-2\n",
    "\n",
    "s0 = Student(\"Tom\",89)\n",
    "print(getattr(s0,\"name\"))\n",
    "\n",
    "print(getattr(s0,\"grade\"))"
   ]
  },
  {
   "cell_type": "code",
   "execution_count": 19,
   "metadata": {},
   "outputs": [
    {
     "name": "stdout",
     "output_type": "stream",
     "text": [
      "Sphere object, rad=5, volume=523.60, surface_area=314.16\n"
     ]
    }
   ],
   "source": [
    "#5\n",
    "\n",
    "\n",
    "from math import pi\n",
    "\n",
    "class Sphare:\n",
    "\n",
    "    def __init__(self,r):\n",
    "        self.rad = r\n",
    "\n",
    "    def volume(self): #球的體積\n",
    "        return (4/3)*pi*(self.rad**3) \n",
    "\n",
    "    def surface_area(self): #球的表面積\n",
    "        return 4*pi*(self.rad**2)\n",
    "\n",
    "    def __repr__(self): #__repr__\n",
    "        print(\"haha\")\n",
    "        return f\"Sphare object,rad={self.rad}\"\n",
    "\n",
    "    def __str__(self): #__str__\n",
    "        # return f\"Sphare object,rad={self.rad}\"\n",
    "        return f\"Sphere object, rad={self.rad}, volume={self.volume():.2f}, surface_area={self.surface_area():.2f}\"\n",
    "        \n",
    "\n",
    "s0 = Sphare(5)\n",
    "print(s0)\n"
   ]
  },
  {
   "cell_type": "code",
   "execution_count": 131,
   "metadata": {},
   "outputs": [
    {
     "name": "stdout",
     "output_type": "stream",
     "text": [
      "12\n",
      "2\n",
      "10\n",
      "1024.0\n"
     ]
    }
   ],
   "source": [
    "#6\n",
    "class Calculator():\n",
    "    def __init__(self,a,b):\n",
    "        self.n1 = a\n",
    "        self.n2 = b\n",
    "    def add(self):\n",
    "        return self.n1 + self.n2\n",
    "    def gcd(self):\n",
    "        import math\n",
    "        return math.gcd(self.n1,self.n2)\n",
    "    def lcm(self):\n",
    "        import math\n",
    "        return math.lcm(self.n1,self.n2)\n",
    "    def power(self):\n",
    "        import math\n",
    "        return math.pow(self.n1,self.n2)\n",
    "    \n",
    "\n",
    "c0 = Calculator(2,10)\n",
    "print(c0.add())\n",
    "print(c0.gcd())\n",
    "print(c0.lcm())\n",
    "print(c0.power())"
   ]
  }
 ],
 "metadata": {
  "kernelspec": {
   "display_name": "Python 3.9.13 64-bit (microsoft store)",
   "language": "python",
   "name": "python3"
  },
  "language_info": {
   "codemirror_mode": {
    "name": "ipython",
    "version": 3
   },
   "file_extension": ".py",
   "mimetype": "text/x-python",
   "name": "python",
   "nbconvert_exporter": "python",
   "pygments_lexer": "ipython3",
   "version": "3.9.13"
  },
  "orig_nbformat": 4,
  "vscode": {
   "interpreter": {
    "hash": "6c74c21d66fcf30ed781ed93a5bd466f3e8f981da94f873abee0662ca5cef8b4"
   }
  }
 },
 "nbformat": 4,
 "nbformat_minor": 2
}
