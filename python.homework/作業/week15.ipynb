{
 "cells": [
  {
   "attachments": {},
   "cell_type": "markdown",
   "metadata": {},
   "source": [
    "9-1認識Numpy的陣列"
   ]
  },
  {
   "cell_type": "code",
   "execution_count": 132,
   "metadata": {},
   "outputs": [
    {
     "name": "stdout",
     "output_type": "stream",
     "text": [
      "(4, 1)\n",
      "2\n",
      "4\n",
      "(1, 4)\n",
      "2\n",
      "4\n",
      "(1, 1)\n",
      "2\n",
      "1\n"
     ]
    },
    {
     "data": {
      "text/plain": [
       "array([[4, 4, 4, 4],\n",
       "       [2, 2, 2, 2],\n",
       "       [5, 5, 5, 5]])"
      ]
     },
     "execution_count": 132,
     "metadata": {},
     "output_type": "execute_result"
    }
   ],
   "source": [
    "#1\n",
    "import numpy as np\n",
    "#1-a\n",
    "a = np.array([[1.2],[ 4.3],[ 5.4],[6.7]])\n",
    "print(a.shape)\n",
    "print(a.ndim)\n",
    "print(a.size)\n",
    "\n",
    "#1-b\n",
    "b = np.array([[1.2, 4.3, 5.4 , 6.7]])\n",
    "print(b.shape)\n",
    "print(b.ndim)\n",
    "print(b.size)\n",
    "\n",
    "#1-c\n",
    "a = np.array([[5]])\n",
    "print(a.shape)\n",
    "print(a.ndim)\n",
    "print(a.size)\n",
    "\n",
    "#1-d\n",
    "np.tile([ [4],[2],[5]],(1,4))\n"
   ]
  },
  {
   "cell_type": "code",
   "execution_count": 48,
   "metadata": {},
   "outputs": [
    {
     "name": "stdout",
     "output_type": "stream",
     "text": [
      "[[ 4  7]\n",
      " [ 8 12]]\n",
      "[[7.4]\n",
      " [6.7]\n",
      " [2. ]]\n",
      "[[ 7  4]\n",
      " [ 6  7]\n",
      " [ 9 -5]]\n"
     ]
    }
   ],
   "source": [
    "#2\n",
    "# a = np.array([[4,7,8,12]])\n",
    "# print(a)\n",
    "# #2-a\n",
    "\n",
    "#2-a\n",
    "a = np.array([[4,7],[8,12]])\n",
    "\n",
    "print(a)\n",
    "\n",
    "#2-b\n",
    "b = np.array([[7.4],[6.7],[2.0]] ,dtype=float)\n",
    "print(b)\n",
    "\n",
    "#2-c\n",
    "c = np.array([[7,4],[6,7],[9,-5]])\n",
    "print(c)"
   ]
  },
  {
   "cell_type": "code",
   "execution_count": 67,
   "metadata": {},
   "outputs": [
    {
     "data": {
      "text/plain": [
       "array([[[0, 0, 0, 0],\n",
       "        [0, 0, 0, 0],\n",
       "        [0, 0, 0, 0]],\n",
       "\n",
       "       [[1, 1, 1, 1],\n",
       "        [1, 1, 1, 1],\n",
       "        [1, 1, 1, 1]]])"
      ]
     },
     "execution_count": 67,
     "metadata": {},
     "output_type": "execute_result"
    }
   ],
   "source": [
    "#3\n",
    "a = np.zeros((3,4),dtype=int)\n",
    "\n",
    "b = np.ones((3,4),dtype=int)\n",
    "\n",
    "np.tile([a,b],(1,1))"
   ]
  },
  {
   "cell_type": "code",
   "execution_count": 73,
   "metadata": {},
   "outputs": [
    {
     "name": "stdout",
     "output_type": "stream",
     "text": [
      "因為np.array(5).ndim 中的5是純量，純量的維度為零\n",
      "因為沒賦予5.ndim中的5 numpy.array屬性\n"
     ]
    }
   ],
   "source": [
    "#4\n",
    "print(\"因為np.array(5).ndim 中的5是純量，純量的維度為零\")\n",
    "print(\"因為沒賦予5.ndim中的5 numpy.array屬性\")"
   ]
  },
  {
   "cell_type": "code",
   "execution_count": 76,
   "metadata": {},
   "outputs": [
    {
     "data": {
      "text/plain": [
       "array([0. , 0.1, 0.2, 0.3, 0.4, 0.5, 0.6, 0.7, 0.8, 0.9, 1. ])"
      ]
     },
     "execution_count": 76,
     "metadata": {},
     "output_type": "execute_result"
    }
   ],
   "source": [
    "#5\n",
    "np.arange(0,1.01,0.1)"
   ]
  },
  {
   "cell_type": "code",
   "execution_count": 78,
   "metadata": {},
   "outputs": [
    {
     "data": {
      "text/plain": [
       "array([[[0, 0, 0, 0],\n",
       "        [0, 0, 0, 0],\n",
       "        [0, 0, 0, 0]],\n",
       "\n",
       "       [[0, 0, 0, 0],\n",
       "        [0, 0, 0, 0],\n",
       "        [0, 0, 0, 0]]], dtype=uint8)"
      ]
     },
     "execution_count": 78,
     "metadata": {},
     "output_type": "execute_result"
    }
   ],
   "source": [
    "#6\n",
    "np.zeros((2,3,4),dtype=\"uint8\")"
   ]
  },
  {
   "cell_type": "code",
   "execution_count": 95,
   "metadata": {},
   "outputs": [
    {
     "name": "stdout",
     "output_type": "stream",
     "text": [
      "[[0.01586025 0.37127269 0.66079606]\n",
      " [0.33087351 0.39184079 0.06832817]]\n"
     ]
    }
   ],
   "source": [
    "#7\n",
    "a = np.random.rand(2,3)\n",
    "\n",
    "print(a)"
   ]
  },
  {
   "cell_type": "code",
   "execution_count": 99,
   "metadata": {},
   "outputs": [
    {
     "data": {
      "text/plain": [
       "array([17, 19,  1, 16,  8,  4, 18, 10, 12,  6])"
      ]
     },
     "execution_count": 99,
     "metadata": {},
     "output_type": "execute_result"
    }
   ],
   "source": [
    "#8\n",
    "rg = np.random.default_rng(seed = 200)\n",
    "\n",
    "rg.choice(range(1,21),10,replace=False)"
   ]
  },
  {
   "cell_type": "code",
   "execution_count": 142,
   "metadata": {},
   "outputs": [
    {
     "name": "stdout",
     "output_type": "stream",
     "text": [
      "[ 1 15  6 11  8  4 10  3]\n",
      "[15 14 11 14  7  9 10  7  5 11]\n",
      "[[ 6  7  8  9 10]\n",
      " [ 0  1  3  4  5]]\n"
     ]
    }
   ],
   "source": [
    "#9\n",
    "a =np.array([[0,1,3,4,5],\n",
    "            [6,7,8,9,10],\n",
    "            [11,12,13,14,15]])\n",
    "b = [0,1,3,4,5,6,7,8,9,10,11,12,13,14,15]\n",
    "rg = np.random.default_rng(seed = 20)\n",
    "#9-a\n",
    "print(rg.choice(b,8,replace=False))\n",
    "#9-b\n",
    "print(rg.choice(b,10,axis=0,replace=True))\n",
    "# #9-c\n",
    "print(rg.choice(a,2,axis=0,replace=False))"
   ]
  },
  {
   "attachments": {},
   "cell_type": "markdown",
   "metadata": {},
   "source": [
    "9-2陣列元素的提取"
   ]
  },
  {
   "cell_type": "code",
   "execution_count": 161,
   "metadata": {},
   "outputs": [
    {
     "name": "stdout",
     "output_type": "stream",
     "text": [
      "23 54 88\n",
      "[53 88 92]\n",
      "[67 54 92 88 53]\n",
      "[23 67 53]\n",
      "[54 26 92 88]\n",
      "[53 88 92 26 54 67 23]\n",
      "[92 26 54]\n"
     ]
    }
   ],
   "source": [
    "#10\n",
    "a=np.array([23,67,54,26,92,88,53])\n",
    "#10-a\n",
    "print(a[0],a[2],a[5])\n",
    "#10-b\n",
    "print(a[-1:-4:-1])\n",
    "#10-c\n",
    "rule = a>50\n",
    "print(a[rule])\n",
    "#10-d\n",
    "rule2 = a%2==1\n",
    "print(a[rule2])\n",
    "#10-e\n",
    "rule2 = a%2==0\n",
    "print(a[rule2])\n",
    "#10-f\n",
    "print(a[::-1])\n",
    "#10-g\n",
    "print(a[4:1:-1])"
   ]
  },
  {
   "cell_type": "code",
   "execution_count": 60,
   "metadata": {},
   "outputs": [
    {
     "name": "stdout",
     "output_type": "stream",
     "text": [
      "[[ 0  1  2  3  4]\n",
      " [ 5  6  7  8  9]\n",
      " [10 11 12 13 14]\n",
      " [15 16 17 18 19]]\n",
      "\n",
      "[ 2  7 12 17]\n",
      "[ 4  9 14 19]\n",
      "\n",
      "[[ 0  1  2  3  4]\n",
      " [ 5  6  7  8  9]\n",
      " [10 11 12 13 14]]\n",
      "\n",
      "[[15 16 17 18 19]\n",
      " [10 11 12 13 14]\n",
      " [ 5  6  7  8  9]\n",
      " [ 0  1  2  3  4]]\n",
      "\n",
      "[ 0  3  6  9 12 15 18]\n"
     ]
    }
   ],
   "source": [
    "#11\n",
    "a=np.arange(20).reshape((4,5))\n",
    "print(a)\n",
    "#11-a\n",
    "print()\n",
    "print(a[0:4,2])\n",
    "print(a[0:4,4])\n",
    "#11-b\n",
    "print()\n",
    "print(a[0:3])\n",
    "#11-c\n",
    "print()\n",
    "print(a[::-1])\n",
    "#11-d\n",
    "print()\n",
    "rule3=a%3==0\n",
    "print(a[rule3])"
   ]
  },
  {
   "cell_type": "code",
   "execution_count": 82,
   "metadata": {},
   "outputs": [
    {
     "name": "stdout",
     "output_type": "stream",
     "text": [
      "\n",
      "[21 21 87 87]\n",
      "\n",
      "[[21]\n",
      " [21]\n",
      " [87]\n",
      " [87]]\n",
      "\n",
      "[21 92 92] [87 43 38]\n",
      "\n",
      "[[21 92]\n",
      " [87 43]\n",
      " [55 87]]\n",
      "\n",
      "[[38 63]\n",
      " [38 63]\n",
      " [38 63]]\n"
     ]
    }
   ],
   "source": [
    "#12\n",
    "a=np.array([38, 43, 21, 87, 92, 55, 40, 63])\n",
    "#12-a、12-b\n",
    "print()\n",
    "print(a[[2,2,3,3]])\n",
    "#12-c\n",
    "print()\n",
    "print( np.tile([a[[2]],a[[2]],a[[3]],a[[3]]],(1,1)) )\n",
    "#12-d\n",
    "print()\n",
    "print(a[[2,4,4]],a[[3,1,0]])\n",
    "#12-e\n",
    "print()\n",
    "print( np.tile([a[[2,4]],a[[3,1]],a[[5,3]]],(1,1)) )\n",
    "#12-f\n",
    "print()\n",
    "print( np.tile( [a[[0,7]]],(3,1)) )"
   ]
  },
  {
   "cell_type": "code",
   "execution_count": 130,
   "metadata": {},
   "outputs": [
    {
     "name": "stdout",
     "output_type": "stream",
     "text": [
      "[[10 11 12 13 14]\n",
      " [15 16 17 18 19]\n",
      " [20 21 22 23 24]\n",
      " [25 26 27 28 29]]\n",
      "\n",
      "[17 23]\n",
      "\n",
      "[10 16 23]\n",
      "\n",
      "[[13 14]\n",
      " [23 24]\n",
      " [28 29]]\n",
      "\n",
      "[[20 22 23]\n",
      " [25 27 28]]\n",
      "\n",
      "[[10 12]\n",
      " [20 22]]\n",
      "[[11 13 14]\n",
      " [16 18 19]]\n"
     ]
    }
   ],
   "source": [
    "#13\n",
    "a = np.arange(10,30).reshape(4,5)\n",
    "print(a)\n",
    "#13-a\n",
    "print()\n",
    "print(a[[1,2],[2,3]])\n",
    "#13-b\n",
    "print()\n",
    "print(a[[0,1,2],[0,1,3]])\n",
    "#13-c\n",
    "print()\n",
    "print( a[[0,2,3],3:5] )\n",
    "#13-d\n",
    "print()\n",
    "print( a[2:4,[0,2,3]] )\n",
    "#13-e\n",
    "print()\n",
    "print( a[[0,2],:][:,[0,2]] )\n",
    "#13-f\n",
    "print( a[0:2,[1,3,4]] )"
   ]
  },
  {
   "attachments": {},
   "cell_type": "markdown",
   "metadata": {},
   "source": [
    "9-3陣列的進階處理"
   ]
  },
  {
   "cell_type": "code",
   "execution_count": 183,
   "metadata": {},
   "outputs": [
    {
     "name": "stdout",
     "output_type": "stream",
     "text": [
      "12\n",
      "(12,)\n",
      "1\n",
      "[[ 0  1  2]\n",
      " [ 3  4  5]\n",
      " [ 6  7  8]\n",
      " [ 9 10 11]]\n",
      "[[ 0  1  2  3  4  5  6  7  8  9 10 11]]\n",
      "[[ 0]\n",
      " [ 1]\n",
      " [ 2]\n",
      " [ 3]\n",
      " [ 4]\n",
      " [ 5]\n",
      " [ 6]\n",
      " [ 7]\n",
      " [ 8]\n",
      " [ 9]\n",
      " [10]\n",
      " [11]]\n",
      "[[[ 0  1  2]\n",
      "  [ 3  4  5]]\n",
      "\n",
      " [[ 6  7  8]\n",
      "  [ 9 10 11]]]\n"
     ]
    }
   ],
   "source": [
    "#14\n",
    "a = np.arange(12)\n",
    "#14-a\n",
    "print(a.size)\n",
    "print(a.shape)\n",
    "print(a.ndim)\n",
    "#14-b\n",
    "print( a.reshape(4,3)) #reshape(x,y) 一個x*y瘩陣列\n",
    "print( a.reshape(1,12))\n",
    "print( a.reshape(12,1))\n",
    "print( a.reshape(2,2,3))"
   ]
  },
  {
   "cell_type": "code",
   "execution_count": 203,
   "metadata": {},
   "outputs": [
    {
     "name": "stdout",
     "output_type": "stream",
     "text": [
      "[ 0  1  2  3  4  5  6  7  8  9 10 11]\n",
      "\n",
      "[[ 0  1  2]\n",
      " [ 3  4  5]\n",
      " [ 6  7  8]\n",
      " [ 9 10 11]]\n",
      "\n",
      "[[ 0  4  8]\n",
      " [ 1  5  9]\n",
      " [ 2  6 10]\n",
      " [ 3  7 11]]\n",
      "\n",
      "[[ 0  4  8]\n",
      " [ 1  5  9]\n",
      " [ 2  6 10]\n",
      " [ 3  7 11]]\n",
      "一樣\n",
      "\n",
      "[[ 0  4  8]\n",
      " [ 1  5  9]\n",
      " [ 2  6 10]\n",
      " [ 3  7 11]]\n",
      "\n",
      "[[ 0  4  8]\n",
      " [ 1  5  9]\n",
      " [ 2  6 10]\n",
      " [ 3  7 11]]\n",
      "一樣\n"
     ]
    }
   ],
   "source": [
    "#15\n",
    "a = np.arange(12).reshape(3,4)\n",
    "\n",
    "#15-a\n",
    "print(a.flatten())\n",
    "print()\n",
    "\n",
    "#15-b\n",
    "print(a.reshape(4,3))\n",
    "print()\n",
    "\n",
    "#15-c\n",
    "print(a.swapaxes(0,1))\n",
    "print()\n",
    "\n",
    "print(a.T)\n",
    "print(\"一樣\")\n",
    "print()\n",
    "\n",
    "#15-d\n",
    "print(np.moveaxis(a,1,0))\n",
    "print()\n",
    "print(a.T)\n",
    "print(\"一樣\")\n",
    "\n"
   ]
  },
  {
   "cell_type": "code",
   "execution_count": 232,
   "metadata": {},
   "outputs": [
    {
     "name": "stdout",
     "output_type": "stream",
     "text": [
      "[[ 0  1  2  3]\n",
      " [ 4  5  6  7]\n",
      " [ 8  9 10 11]]\n",
      "[array([0, 1, 2, 3, 4, 5]), array([ 6,  7,  8,  9, 10, 11])]\n",
      "\n",
      "[array([[0, 1, 2, 3]]), array([[4, 5, 6, 7]]), array([[ 8,  9, 10, 11]])]\n"
     ]
    }
   ],
   "source": [
    "#15-e\n",
    "print(a)\n",
    "print(np.hsplit(a.ravel(),2))\n",
    "print()\n",
    "#15-f\n",
    "print(np.split(a,3,axis=0))\n",
    "# print(np)"
   ]
  },
  {
   "cell_type": "code",
   "execution_count": 246,
   "metadata": {},
   "outputs": [
    {
     "name": "stdout",
     "output_type": "stream",
     "text": [
      "[[[[ 0  1  2  3]\n",
      "   [ 4  5  6  7]\n",
      "   [ 8  9 10 11]]\n",
      "\n",
      "  [[12 13 14 15]\n",
      "   [16 17 18 19]\n",
      "   [20 21 22 23]]]]\n",
      "\n",
      "[[[[ 0  1  2  3]]\n",
      "\n",
      "  [[12 13 14 15]]]\n",
      "\n",
      "\n",
      " [[[ 4  5  6  7]]\n",
      "\n",
      "  [[16 17 18 19]]]\n",
      "\n",
      "\n",
      " [[[ 8  9 10 11]]\n",
      "\n",
      "  [[20 21 22 23]]]]\n",
      "\n",
      "[[[[ 0]\n",
      "   [12]]\n",
      "\n",
      "  [[ 4]\n",
      "   [16]]\n",
      "\n",
      "  [[ 8]\n",
      "   [20]]]\n",
      "\n",
      "\n",
      " [[[ 1]\n",
      "   [13]]\n",
      "\n",
      "  [[ 5]\n",
      "   [17]]\n",
      "\n",
      "  [[ 9]\n",
      "   [21]]]\n",
      "\n",
      "\n",
      " [[[ 2]\n",
      "   [14]]\n",
      "\n",
      "  [[ 6]\n",
      "   [18]]\n",
      "\n",
      "  [[10]\n",
      "   [22]]]\n",
      "\n",
      "\n",
      " [[[ 3]\n",
      "   [15]]\n",
      "\n",
      "  [[ 7]\n",
      "   [19]]\n",
      "\n",
      "  [[11]\n",
      "   [23]]]]\n",
      "不等於\n"
     ]
    }
   ],
   "source": [
    "#16\n",
    "a = np.arange(24).reshape(2,3,4)\n",
    "\n",
    "#16-a\n",
    "a = a[np.newaxis,:]\n",
    "print(a)\n",
    "\n",
    "#16-b\n",
    "print()\n",
    "print(a.swapaxes(0,2))\n",
    "print()\n",
    "print(a.T)\n",
    "print(\"不等於\")\n",
    "\n"
   ]
  },
  {
   "cell_type": "code",
   "execution_count": 263,
   "metadata": {},
   "outputs": [
    {
     "name": "stdout",
     "output_type": "stream",
     "text": [
      "[[[ 0  4  8]\n",
      "  [12 16 20]]\n",
      "\n",
      " [[ 1  5  9]\n",
      "  [13 17 21]]\n",
      "\n",
      " [[ 2  6 10]\n",
      "  [14 18 22]]\n",
      "\n",
      " [[ 3  7 11]\n",
      "  [15 19 23]]]\n",
      "b是兩個軸互換，c是軸2換到軸0，所以答案不一樣\n",
      "[array([[[ 0,  1,  2,  3],\n",
      "        [ 4,  5,  6,  7],\n",
      "        [ 8,  9, 10, 11]]]), array([[[12, 13, 14, 15],\n",
      "        [16, 17, 18, 19],\n",
      "        [20, 21, 22, 23]]])]\n",
      "[array([[[ 0,  1,  2,  3],\n",
      "        [ 4,  5,  6,  7],\n",
      "        [ 8,  9, 10, 11]]]), array([[[12, 13, 14, 15],\n",
      "        [16, 17, 18, 19],\n",
      "        [20, 21, 22, 23]]])]\n"
     ]
    }
   ],
   "source": [
    "#16-c\n",
    "a = np.arange(24).reshape(2,3,4)\n",
    "print(np.moveaxis(a,2,0))\n",
    "print(\"b是兩個軸互換，c是軸2換到軸0，所以答案不一樣\")\n",
    "\n",
    "#16-d\n",
    "a = np.arange(24).reshape(2,3,4)\n",
    "print(np.split(a,2,axis=0))\n",
    "\n",
    "#16-e\n",
    "a = np.arange(24).reshape(2,3,4)\n",
    "b = np.split(a,2,axis=0)\n",
    "print(b)\n"
   ]
  },
  {
   "cell_type": "code",
   "execution_count": 264,
   "metadata": {},
   "outputs": [
    {
     "name": "stdout",
     "output_type": "stream",
     "text": [
      "[[[ 0  1  2  3]\n",
      "  [ 4  5  6  7]\n",
      "  [ 8  9 10 11]]\n",
      "\n",
      " [[12 13 14 15]\n",
      "  [16 17 18 19]\n",
      "  [20 21 22 23]]]\n"
     ]
    },
    {
     "ename": "ValueError",
     "evalue": "cannot reshape array of size 24 into shape (2,3,2)",
     "output_type": "error",
     "traceback": [
      "\u001b[1;31m---------------------------------------------------------------------------\u001b[0m",
      "\u001b[1;31mValueError\u001b[0m                                Traceback (most recent call last)",
      "Cell \u001b[1;32mIn [264], line 3\u001b[0m\n\u001b[0;32m      1\u001b[0m c \u001b[39m=\u001b[39m np\u001b[39m.\u001b[39marray([np\u001b[39m.\u001b[39mvstack(i) \u001b[39mfor\u001b[39;00m i \u001b[39min\u001b[39;00m b])\n\u001b[0;32m      2\u001b[0m \u001b[39mprint\u001b[39m(c)\n\u001b[1;32m----> 3\u001b[0m \u001b[39mprint\u001b[39m(c\u001b[39m.\u001b[39;49mreshape(\u001b[39m2\u001b[39;49m,\u001b[39m3\u001b[39;49m,\u001b[39m2\u001b[39;49m))\n",
      "\u001b[1;31mValueError\u001b[0m: cannot reshape array of size 24 into shape (2,3,2)"
     ]
    }
   ],
   "source": [
    "c = np.array([np.vstack(i) for i in b])\n",
    "print(c)\n",
    "print(c.reshape(2,3,2))"
   ]
  }
 ],
 "metadata": {
  "kernelspec": {
   "display_name": "Python 3",
   "language": "python",
   "name": "python3"
  },
  "language_info": {
   "codemirror_mode": {
    "name": "ipython",
    "version": 3
   },
   "file_extension": ".py",
   "mimetype": "text/x-python",
   "name": "python",
   "nbconvert_exporter": "python",
   "pygments_lexer": "ipython3",
   "version": "3.9.13 (tags/v3.9.13:6de2ca5, May 17 2022, 16:36:42) [MSC v.1929 64 bit (AMD64)]"
  },
  "orig_nbformat": 4,
  "vscode": {
   "interpreter": {
    "hash": "6c74c21d66fcf30ed781ed93a5bd466f3e8f981da94f873abee0662ca5cef8b4"
   }
  }
 },
 "nbformat": 4,
 "nbformat_minor": 2
}
