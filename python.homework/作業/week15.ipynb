{
 "cells": [
  {
   "attachments": {},
   "cell_type": "markdown",
   "metadata": {},
   "source": [
    "9-1認識Numpy的陣列"
   ]
  },
  {
   "cell_type": "code",
   "execution_count": 26,
   "metadata": {},
   "outputs": [
    {
     "name": "stdout",
     "output_type": "stream",
     "text": [
      "(4, 1)\n",
      "2\n",
      "4\n",
      "(1, 4)\n",
      "2\n",
      "4\n",
      "(1, 1)\n",
      "2\n",
      "1\n"
     ]
    },
    {
     "data": {
      "text/plain": [
       "array([[4, 4, 4, 4],\n",
       "       [2, 2, 2, 2],\n",
       "       [5, 5, 5, 5]])"
      ]
     },
     "execution_count": 26,
     "metadata": {},
     "output_type": "execute_result"
    }
   ],
   "source": [
    "#1\n",
    "import numpy as np\n",
    "#1-a\n",
    "a = np.array([[1.2],[ 4.3],[ 5.4],[6.7]])\n",
    "print(a.shape)\n",
    "print(a.ndim)\n",
    "print(a.size)\n",
    "\n",
    "#1-b\n",
    "b = np.array([[1.2, 4.3, 5.4 , 6.7]])\n",
    "print(b.shape)\n",
    "print(b.ndim)\n",
    "print(b.size)\n",
    "\n",
    "#1-c\n",
    "a = np.array([[5]])\n",
    "print(a.shape)\n",
    "print(a.ndim)\n",
    "print(a.size)\n",
    "\n",
    "#1-d\n",
    "np.tile([ [4],[2],[5]],(1,4))\n"
   ]
  },
  {
   "cell_type": "code",
   "execution_count": 48,
   "metadata": {},
   "outputs": [
    {
     "name": "stdout",
     "output_type": "stream",
     "text": [
      "[[ 4  7]\n",
      " [ 8 12]]\n",
      "[[7.4]\n",
      " [6.7]\n",
      " [2. ]]\n",
      "[[ 7  4]\n",
      " [ 6  7]\n",
      " [ 9 -5]]\n"
     ]
    }
   ],
   "source": [
    "#2\n",
    "# a = np.array([[4,7,8,12]])\n",
    "# print(a)\n",
    "# #2-a\n",
    "\n",
    "#2-a\n",
    "a = np.array([[4,7],[8,12]])\n",
    "\n",
    "print(a)\n",
    "\n",
    "#2-b\n",
    "b = np.array([[7.4],[6.7],[2.0]] ,dtype=float)\n",
    "print(b)\n",
    "\n",
    "#2-c\n",
    "c = np.array([[7,4],[6,7],[9,-5]])\n",
    "print(c)"
   ]
  },
  {
   "cell_type": "code",
   "execution_count": 67,
   "metadata": {},
   "outputs": [
    {
     "data": {
      "text/plain": [
       "array([[[0, 0, 0, 0],\n",
       "        [0, 0, 0, 0],\n",
       "        [0, 0, 0, 0]],\n",
       "\n",
       "       [[1, 1, 1, 1],\n",
       "        [1, 1, 1, 1],\n",
       "        [1, 1, 1, 1]]])"
      ]
     },
     "execution_count": 67,
     "metadata": {},
     "output_type": "execute_result"
    }
   ],
   "source": [
    "#3\n",
    "a = np.zeros((3,4),dtype=int)\n",
    "\n",
    "b = np.ones((3,4),dtype=int)\n",
    "\n",
    "np.tile([a,b],(1,1))"
   ]
  },
  {
   "cell_type": "code",
   "execution_count": 73,
   "metadata": {},
   "outputs": [
    {
     "name": "stdout",
     "output_type": "stream",
     "text": [
      "因為np.array(5).ndim 中的5是純量，純量的維度為零\n",
      "因為沒賦予5.ndim中的5 numpy.array屬性\n"
     ]
    }
   ],
   "source": [
    "#4\n",
    "print(\"因為np.array(5).ndim 中的5是純量，純量的維度為零\")\n",
    "print(\"因為沒賦予5.ndim中的5 numpy.array屬性\")"
   ]
  },
  {
   "cell_type": "code",
   "execution_count": 76,
   "metadata": {},
   "outputs": [
    {
     "data": {
      "text/plain": [
       "array([0. , 0.1, 0.2, 0.3, 0.4, 0.5, 0.6, 0.7, 0.8, 0.9, 1. ])"
      ]
     },
     "execution_count": 76,
     "metadata": {},
     "output_type": "execute_result"
    }
   ],
   "source": [
    "#5\n",
    "np.arange(0,1.01,0.1)"
   ]
  },
  {
   "cell_type": "code",
   "execution_count": 78,
   "metadata": {},
   "outputs": [
    {
     "data": {
      "text/plain": [
       "array([[[0, 0, 0, 0],\n",
       "        [0, 0, 0, 0],\n",
       "        [0, 0, 0, 0]],\n",
       "\n",
       "       [[0, 0, 0, 0],\n",
       "        [0, 0, 0, 0],\n",
       "        [0, 0, 0, 0]]], dtype=uint8)"
      ]
     },
     "execution_count": 78,
     "metadata": {},
     "output_type": "execute_result"
    }
   ],
   "source": [
    "#6\n",
    "np.zeros((2,3,4),dtype=\"uint8\")"
   ]
  },
  {
   "cell_type": "code",
   "execution_count": 95,
   "metadata": {},
   "outputs": [
    {
     "name": "stdout",
     "output_type": "stream",
     "text": [
      "[[0.01586025 0.37127269 0.66079606]\n",
      " [0.33087351 0.39184079 0.06832817]]\n"
     ]
    }
   ],
   "source": [
    "#7\n",
    "a = np.random.rand(2,3)\n",
    "\n",
    "print(a)"
   ]
  },
  {
   "cell_type": "code",
   "execution_count": 99,
   "metadata": {},
   "outputs": [
    {
     "data": {
      "text/plain": [
       "array([17, 19,  1, 16,  8,  4, 18, 10, 12,  6])"
      ]
     },
     "execution_count": 99,
     "metadata": {},
     "output_type": "execute_result"
    }
   ],
   "source": [
    "#8\n",
    "rg = np.random.default_rng(seed = 200)\n",
    "\n",
    "rg.choice(range(1,21),10,replace=False)"
   ]
  },
  {
   "cell_type": "code",
   "execution_count": 142,
   "metadata": {},
   "outputs": [
    {
     "name": "stdout",
     "output_type": "stream",
     "text": [
      "[ 1 15  6 11  8  4 10  3]\n",
      "[15 14 11 14  7  9 10  7  5 11]\n",
      "[[ 6  7  8  9 10]\n",
      " [ 0  1  3  4  5]]\n"
     ]
    }
   ],
   "source": [
    "#9\n",
    "a =np.array([[0,1,3,4,5],\n",
    "            [6,7,8,9,10],\n",
    "            [11,12,13,14,15]])\n",
    "b = [0,1,3,4,5,6,7,8,9,10,11,12,13,14,15]\n",
    "rg = np.random.default_rng(seed = 20)\n",
    "#9-a\n",
    "print(rg.choice(b,8,replace=False))\n",
    "#9-b\n",
    "print(rg.choice(b,10,axis=0,replace=True))\n",
    "# #9-c\n",
    "print(rg.choice(a,2,axis=0,replace=False))"
   ]
  },
  {
   "attachments": {},
   "cell_type": "markdown",
   "metadata": {},
   "source": [
    "9-2陣列元素的提取"
   ]
  },
  {
   "cell_type": "code",
   "execution_count": 161,
   "metadata": {},
   "outputs": [
    {
     "name": "stdout",
     "output_type": "stream",
     "text": [
      "23 54 88\n",
      "[53 88 92]\n",
      "[67 54 92 88 53]\n",
      "[23 67 53]\n",
      "[54 26 92 88]\n",
      "[53 88 92 26 54 67 23]\n",
      "[92 26 54]\n"
     ]
    }
   ],
   "source": [
    "#10\n",
    "a=np.array([23,67,54,26,92,88,53])\n",
    "#10-a\n",
    "print(a[0],a[2],a[5])\n",
    "#10-b\n",
    "print(a[-1:-4:-1])\n",
    "#10-c\n",
    "rule = a>50\n",
    "print(a[rule])\n",
    "#10-d\n",
    "rule2 = a%2==1\n",
    "print(a[rule2])\n",
    "#10-e\n",
    "rule2 = a%2==0\n",
    "print(a[rule2])\n",
    "#10-f\n",
    "print(a[::-1])\n",
    "#10-g\n",
    "print(a[4:1:-1])"
   ]
  },
  {
   "cell_type": "code",
   "execution_count": 192,
   "metadata": {},
   "outputs": [
    {
     "name": "stdout",
     "output_type": "stream",
     "text": [
      "[[ 0  1  2  3  4]\n",
      " [ 5  6  7  8  9]\n",
      " [10 11 12 13 14]\n",
      " [15 16 17 18 19]]\n",
      "\n",
      "[ 2  7 12 17]\n",
      "[ 4  9 14 19]\n",
      "\n",
      "[[ 0  1  2  3  4]\n",
      " [ 5  6  7  8  9]\n",
      " [10 11 12 13 14]]\n",
      "\n",
      "[[15 16 17 18 19]\n",
      " [10 11 12 13 14]\n",
      " [ 5  6  7  8  9]\n",
      " [ 0  1  2  3  4]]\n",
      "\n",
      "[ 0  3  6  9 12 15 18]\n"
     ]
    }
   ],
   "source": [
    "#11\n",
    "a=np.arange(20).reshape((4,5))\n",
    "print(a)\n",
    "#11-a\n",
    "print()\n",
    "print(a[0:4,2])\n",
    "print(a[0:4,4])\n",
    "#11-b\n",
    "print()\n",
    "print(a[0:3])\n",
    "#11-c\n",
    "print()\n",
    "print(a[::-1])\n",
    "#11-d\n",
    "print()\n",
    "rule3=a%3==0\n",
    "print(a[rule3])"
   ]
  }
 ],
 "metadata": {
  "kernelspec": {
   "display_name": "Python 3",
   "language": "python",
   "name": "python3"
  },
  "language_info": {
   "codemirror_mode": {
    "name": "ipython",
    "version": 3
   },
   "file_extension": ".py",
   "mimetype": "text/x-python",
   "name": "python",
   "nbconvert_exporter": "python",
   "pygments_lexer": "ipython3",
   "version": "3.9.13"
  },
  "orig_nbformat": 4,
  "vscode": {
   "interpreter": {
    "hash": "6c74c21d66fcf30ed781ed93a5bd466f3e8f981da94f873abee0662ca5cef8b4"
   }
  }
 },
 "nbformat": 4,
 "nbformat_minor": 2
}
