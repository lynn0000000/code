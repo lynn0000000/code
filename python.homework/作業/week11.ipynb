{
 "cells": [
  {
   "cell_type": "markdown",
   "metadata": {},
   "source": [
    "6-3關於傳入的函數"
   ]
  },
  {
   "cell_type": "code",
   "execution_count": 3,
   "metadata": {},
   "outputs": [
    {
     "data": {
      "text/plain": [
       "[8, 9, 10]"
      ]
     },
     "execution_count": 3,
     "metadata": {},
     "output_type": "execute_result"
    }
   ],
   "source": [
    "#14\n",
    "def add_n(lst,n=0):\n",
    "    lst_n=[]\n",
    "    for i in lst:\n",
    "        i+=n\n",
    "        lst_n.append(i)\n",
    "    return lst_n\n",
    "add_n([2,3,4],6)\n"
   ]
  },
  {
   "cell_type": "code",
   "execution_count": 8,
   "metadata": {},
   "outputs": [
    {
     "data": {
      "text/plain": [
       "18"
      ]
     },
     "execution_count": 8,
     "metadata": {},
     "output_type": "execute_result"
    }
   ],
   "source": [
    "#15\n",
    "def find_int(num=3):\n",
    "    \n",
    "    #變數\n",
    "    remainder=0  #num/4的餘數\n",
    "\n",
    "    # if num不能被4整除\n",
    "    if num%4 !=0: \n",
    "        remainder= num%4 \n",
    "\n",
    "        #用餘數判斷要加一還是減一\n",
    "        if remainder >2:\n",
    "            num=num-1\n",
    "        elif remainder<2:\n",
    "            num=num+1\n",
    "    if True:\n",
    "        return num\n",
    "find_int(19)\n",
    "\n"
   ]
  },
  {
   "cell_type": "code",
   "execution_count": 1,
   "metadata": {},
   "outputs": [
    {
     "data": {
      "text/plain": [
       "3.1015204546753545"
      ]
     },
     "execution_count": 1,
     "metadata": {},
     "output_type": "execute_result"
    }
   ],
   "source": [
    "#16\n",
    "#find prime number(找出n個>2的質數)\n",
    "\n",
    "#分子\n",
    "def primes(n=10):\n",
    "    lst=[]\n",
    "    t_n=1\n",
    "    for i in range(1,50):\n",
    "        if t_n<=n:  \n",
    "            t=0\n",
    "            for a in range(1,i+1):\n",
    "                if i%a == 0:\n",
    "                    t+=1\n",
    "            if a not in lst and t<=2 and i!=1 and i!=2 :\n",
    "                lst.append(i)\n",
    "                t_n+=1\n",
    "    if True:\n",
    "        return lst\n",
    "primes(5)\n",
    "\n",
    "#分母\n",
    "def denominators(n=10):\n",
    "    lst_d=[]\n",
    "    remainder=0  #num/4的餘數\n",
    "    for a in primes(n):\n",
    "        if a % 4 !=0:\n",
    "            remainder = a%4\n",
    "            if remainder > 2:\n",
    "                a-=1\n",
    "                lst_d.append(a)\n",
    "            elif remainder < 2:\n",
    "                a+=1\n",
    "                lst_d.append(a)\n",
    "    if True :\n",
    "        return lst_d\n",
    "denominators(5)\n",
    "\n",
    "#圓周率\n",
    "def eular_pi(n=10):\n",
    "    num1=1 #分子相乘\n",
    "    num2=1 #分母相除\n",
    "    pi=0     #圓周率\n",
    "    for a in primes(n):\n",
    "        num1 = num1*a\n",
    "    for b in denominators(n):\n",
    "        num2 = num2*b        \n",
    "    pi= 2 * (num1 /num2)\n",
    "\n",
    "    if True:\n",
    "        return pi\n",
    "\n",
    "eular_pi(10)\n",
    "\n"
   ]
  },
  {
   "cell_type": "code",
   "execution_count": 4,
   "metadata": {},
   "outputs": [
    {
     "ename": "IndexError",
     "evalue": "tuple index out of range",
     "output_type": "error",
     "traceback": [
      "\u001b[1;31m---------------------------------------------------------------------------\u001b[0m",
      "\u001b[1;31mIndexError\u001b[0m                                Traceback (most recent call last)",
      "Cell \u001b[1;32mIn [4], line 7\u001b[0m\n\u001b[0;32m      5\u001b[0m         result\u001b[39m.\u001b[39mupdate({i:values[index]})\n\u001b[0;32m      6\u001b[0m     \u001b[39mreturn\u001b[39;00m result\n\u001b[1;32m----> 7\u001b[0m make_dict([\u001b[39m0\u001b[39;49m,\u001b[39m1\u001b[39;49m,\u001b[39m2\u001b[39;49m],[\u001b[39m32\u001b[39;49m,\u001b[39m43\u001b[39;49m,\u001b[39m55\u001b[39;49m])\n",
      "Cell \u001b[1;32mIn [4], line 5\u001b[0m, in \u001b[0;36mmake_dict\u001b[1;34m(keys, *values)\u001b[0m\n\u001b[0;32m      3\u001b[0m result \u001b[39m=\u001b[39m {}\n\u001b[0;32m      4\u001b[0m \u001b[39mfor\u001b[39;00m index,i \u001b[39min\u001b[39;00m \u001b[39menumerate\u001b[39m(keys):\n\u001b[1;32m----> 5\u001b[0m     result\u001b[39m.\u001b[39mupdate({i:values[index]})\n\u001b[0;32m      6\u001b[0m \u001b[39mreturn\u001b[39;00m result\n",
      "\u001b[1;31mIndexError\u001b[0m: tuple index out of range"
     ]
    },
    {
     "ename": "",
     "evalue": "",
     "output_type": "error",
     "traceback": [
      "\u001b[1;31mThe Kernel crashed while executing code in the the current cell or a previous cell. Please review the code in the cell(s) to identify a possible cause of the failure. Click <a href='https://aka.ms/vscodeJupyterKernelCrash'>here</a> for more info. View Jupyter <a href='command:jupyter.viewOutput'>log</a> for further details."
     ]
    }
   ],
   "source": [
    "#17\n",
    "def make_dict(keys:list,*values:list):\n",
    "    result = {}\n",
    "    for index,i in enumerate(keys):\n",
    "        result.update({i:values[index]})\n",
    "    return result\n",
    "make_dict([0,1,2],[32,43,55])\n",
    "\n"
   ]
  },
  {
   "cell_type": "code",
   "execution_count": 76,
   "metadata": {},
   "outputs": [
    {
     "data": {
      "text/plain": [
       "'JULIA_PORGRAM'"
      ]
     },
     "execution_count": 76,
     "metadata": {},
     "output_type": "execute_result"
    }
   ],
   "source": [
    "#18\n",
    "def to_upper(str1):\n",
    "    return str1.upper()\n",
    "\n",
    "to_upper(\"julia_porgram\")"
   ]
  },
  {
   "cell_type": "markdown",
   "metadata": {},
   "source": [
    "6-4全域變數&區域變數"
   ]
  },
  {
   "cell_type": "code",
   "execution_count": 1,
   "metadata": {},
   "outputs": [
    {
     "ename": "TypeError",
     "evalue": "fun() takes 0 positional arguments but 1 was given",
     "output_type": "error",
     "traceback": [
      "\u001b[1;31m---------------------------------------------------------------------------\u001b[0m",
      "\u001b[1;31mTypeError\u001b[0m                                 Traceback (most recent call last)",
      "Cell \u001b[1;32mIn [1], line 7\u001b[0m\n\u001b[0;32m      5\u001b[0m     cnt\u001b[39m+\u001b[39m\u001b[39m=\u001b[39m\u001b[39m1\u001b[39m\n\u001b[0;32m      6\u001b[0m     \u001b[39mreturn\u001b[39;00m cnt\n\u001b[1;32m----> 7\u001b[0m fun(\u001b[39m5\u001b[39;49m)\n",
      "\u001b[1;31mTypeError\u001b[0m: fun() takes 0 positional arguments but 1 was given"
     ]
    }
   ],
   "source": [
    "#19\n",
    "cnt = 0\n",
    "def fun():\n",
    "    global cnt\n",
    "    cnt+=1\n",
    "    return cnt\n",
    "fun()"
   ]
  }
 ],
 "metadata": {
  "kernelspec": {
   "display_name": "Python 3.9.13 64-bit (microsoft store)",
   "language": "python",
   "name": "python3"
  },
  "language_info": {
   "codemirror_mode": {
    "name": "ipython",
    "version": 3
   },
   "file_extension": ".py",
   "mimetype": "text/x-python",
   "name": "python",
   "nbconvert_exporter": "python",
   "pygments_lexer": "ipython3",
   "version": "3.9.13"
  },
  "orig_nbformat": 4,
  "vscode": {
   "interpreter": {
    "hash": "6c74c21d66fcf30ed781ed93a5bd466f3e8f981da94f873abee0662ca5cef8b4"
   }
  }
 },
 "nbformat": 4,
 "nbformat_minor": 2
}
