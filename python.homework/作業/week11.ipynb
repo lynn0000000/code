{
 "cells": [
  {
   "cell_type": "markdown",
   "metadata": {},
   "source": [
    "6-3關於傳入的函數"
   ]
  },
  {
   "cell_type": "code",
   "execution_count": 3,
   "metadata": {},
   "outputs": [
    {
     "data": {
      "text/plain": [
       "[8, 9, 10]"
      ]
     },
     "execution_count": 3,
     "metadata": {},
     "output_type": "execute_result"
    }
   ],
   "source": [
    "#14\n",
    "def add_n(lst,n=0):\n",
    "    lst_n=[]\n",
    "    for i in lst:\n",
    "        i+=n\n",
    "        lst_n.append(i)\n",
    "    return lst_n\n",
    "add_n([2,3,4],6)\n"
   ]
  },
  {
   "cell_type": "code",
   "execution_count": 8,
   "metadata": {},
   "outputs": [
    {
     "data": {
      "text/plain": [
       "18"
      ]
     },
     "execution_count": 8,
     "metadata": {},
     "output_type": "execute_result"
    }
   ],
   "source": [
    "#15\n",
    "def find_int(num=3):\n",
    "    \n",
    "    #變數\n",
    "    remainder=0  #num/4的餘數\n",
    "\n",
    "    # if num不能被4整除\n",
    "    if num%4 !=0: \n",
    "        remainder= num%4 \n",
    "\n",
    "        #用餘數判斷要加一還是減一\n",
    "        if remainder >2:\n",
    "            num=num-1\n",
    "        elif remainder<2:\n",
    "            num=num+1\n",
    "    if True:\n",
    "        return num\n",
    "find_int(19)\n",
    "\n"
   ]
  },
  {
   "cell_type": "code",
   "execution_count": 1,
   "metadata": {},
   "outputs": [
    {
     "data": {
      "text/plain": [
       "3.1015204546753545"
      ]
     },
     "execution_count": 1,
     "metadata": {},
     "output_type": "execute_result"
    }
   ],
   "source": [
    "#16\n",
    "#find prime number(找出n個>2的質數)\n",
    "\n",
    "#分子\n",
    "def primes(n=10):\n",
    "    lst=[]\n",
    "    t_n=1\n",
    "    for i in range(1,50):\n",
    "        if t_n<=n:  \n",
    "            t=0\n",
    "            for a in range(1,i+1):\n",
    "                if i%a == 0:\n",
    "                    t+=1\n",
    "            if a not in lst and t<=2 and i!=1 and i!=2 :\n",
    "                lst.append(i)\n",
    "                t_n+=1\n",
    "    if True:\n",
    "        return lst\n",
    "primes(5)\n",
    "\n",
    "#分母\n",
    "def denominators(n=10):\n",
    "    lst_d=[]\n",
    "    remainder=0  #num/4的餘數\n",
    "    for a in primes(n):\n",
    "        if a % 4 !=0:\n",
    "            remainder = a%4\n",
    "            if remainder > 2:\n",
    "                a-=1\n",
    "                lst_d.append(a)\n",
    "            elif remainder < 2:\n",
    "                a+=1\n",
    "                lst_d.append(a)\n",
    "    if True :\n",
    "        return lst_d\n",
    "denominators(5)\n",
    "\n",
    "#圓周率\n",
    "def eular_pi(n=10):\n",
    "    num1=1 #分子相乘\n",
    "    num2=1 #分母相除\n",
    "    pi=0     #圓周率\n",
    "    for a in primes(n):\n",
    "        num1 = num1*a\n",
    "    for b in denominators(n):\n",
    "        num2 = num2*b        \n",
    "    pi= 2 * (num1 /num2)\n",
    "\n",
    "    if True:\n",
    "        return pi\n",
    "\n",
    "eular_pi(10)\n",
    "\n"
   ]
  },
  {
   "cell_type": "code",
   "execution_count": 16,
   "metadata": {},
   "outputs": [
    {
     "data": {
      "text/plain": [
       "{0: 32, 1: 43, 2: 55}"
      ]
     },
     "execution_count": 16,
     "metadata": {},
     "output_type": "execute_result"
    }
   ],
   "source": [
    "#17\n",
    "def make_dict(keys = list,values = list):\n",
    "    a = list(zip(keys,values))\n",
    "    return dict(a)\n",
    "    \n",
    "make_dict([0,1,2],[32,43,55])"
   ]
  },
  {
   "cell_type": "code",
   "execution_count": 76,
   "metadata": {},
   "outputs": [
    {
     "data": {
      "text/plain": [
       "'JULIA_PORGRAM'"
      ]
     },
     "execution_count": 76,
     "metadata": {},
     "output_type": "execute_result"
    }
   ],
   "source": [
    "#18\n",
    "def to_upper(str1):\n",
    "    return str1.upper()\n",
    "\n",
    "to_upper(\"julia_porgram\")"
   ]
  },
  {
   "cell_type": "markdown",
   "metadata": {},
   "source": [
    "6-4全域變數&區域變數"
   ]
  },
  {
   "cell_type": "code",
   "execution_count": 3,
   "metadata": {},
   "outputs": [
    {
     "name": "stdout",
     "output_type": "stream",
     "text": [
      "函數呼叫的是全域變數cnt，呼叫一次cnt就加1，所以呼叫5次的值為5\n"
     ]
    }
   ],
   "source": [
    "#19\n",
    "cnt = 0\n",
    "def fun():\n",
    "    global cnt\n",
    "    cnt+=1\n",
    "    return cnt\n",
    "fun()\n",
    "\n",
    "print(\"函數呼叫的是全域變數cnt，呼叫一次cnt就加1，所以呼叫5次的值為5\")"
   ]
  },
  {
   "cell_type": "code",
   "execution_count": 8,
   "metadata": {},
   "outputs": [
    {
     "name": "stdout",
     "output_type": "stream",
     "text": [
      "fun中的x為區域變數\n",
      "fun()輸出的x是區域變數;最後輸出的是全域變數\n",
      "Python is impressive\n",
      "Python is amazing\n"
     ]
    }
   ],
   "source": [
    "#20\n",
    "print(\"fun中的x為區域變數\")\n",
    "print(\"fun()輸出的x是區域變數;最後輸出的是全域變數\")\n",
    "\n",
    "#prove\n",
    "x = \"amazing\"\n",
    "def func():\n",
    "    x = \"impressive\"\n",
    "    print(\"Python is \"+ x)\n",
    "func()\n",
    "print(\"Python is \" + x)\n"
   ]
  },
  {
   "cell_type": "markdown",
   "metadata": {},
   "source": [
    "6-5遞迴函數"
   ]
  },
  {
   "cell_type": "code",
   "execution_count": 9,
   "metadata": {},
   "outputs": [
    {
     "data": {
      "text/plain": [
       "24"
      ]
     },
     "execution_count": 9,
     "metadata": {},
     "output_type": "execute_result"
    }
   ],
   "source": [
    "#21\n",
    "def total(n):\n",
    "    if n>1:\n",
    "        return n*total(n-1)\n",
    "    else:\n",
    "        return 1\n",
    "total(4)"
   ]
  },
  {
   "cell_type": "code",
   "execution_count": 5,
   "metadata": {},
   "outputs": [
    {
     "data": {
      "text/plain": [
       "40"
      ]
     },
     "execution_count": 5,
     "metadata": {},
     "output_type": "execute_result"
    }
   ],
   "source": [
    "#23\n",
    "def r_sum(n):\n",
    "    if n>1:\n",
    "        return n*(n-1) + r_sum(n-1)\n",
    "    elif n==0 or n==1:\n",
    "        return 0\n",
    "r_sum(5)"
   ]
  },
  {
   "cell_type": "code",
   "execution_count": 47,
   "metadata": {},
   "outputs": [
    {
     "data": {
      "text/plain": [
       "95"
      ]
     },
     "execution_count": 47,
     "metadata": {},
     "output_type": "execute_result"
    }
   ],
   "source": [
    "#24-a\n",
    "def fib(n):\n",
    "    sum=0\n",
    "    for i in range(1,n+1):\n",
    "        if i >=3:\n",
    "            sum = (i-2) + (i-3)\n",
    "        else :\n",
    "            sum= 1\n",
    "    return sum\n",
    "        \n",
    "fib(50)"
   ]
  },
  {
   "cell_type": "code",
   "execution_count": 12,
   "metadata": {},
   "outputs": [
    {
     "data": {
      "text/plain": [
       "5"
      ]
     },
     "execution_count": 12,
     "metadata": {},
     "output_type": "execute_result"
    }
   ],
   "source": [
    "#24-b\n",
    "def  r_fib(n):\n",
    "    if n >=3: # fib(1) & fib(2) =1 \n",
    "        return r_fib(n-1) + r_fib(n-2)\n",
    "    else:\n",
    "        return 1\n",
    "r_fib(5)\n",
    "\n"
   ]
  },
  {
   "cell_type": "code",
   "execution_count": 48,
   "metadata": {},
   "outputs": [
    {
     "name": "stdout",
     "output_type": "stream",
     "text": [
      "遞回函數執行的時間比較短，因為他是呼叫自己不段往下找值，for迴圈找一個值就要跑三個城市碼，\n"
     ]
    }
   ],
   "source": [
    "#24-c\n",
    "print(\"遞回函數執行的時間比較短，因為他是呼叫自己不段往下找值，for迴圈找一個值就要跑三個城市碼，\")"
   ]
  },
  {
   "cell_type": "markdown",
   "metadata": {},
   "source": [
    "6-6匿名函數"
   ]
  },
  {
   "cell_type": "code",
   "execution_count": 88,
   "metadata": {},
   "outputs": [
    {
     "name": "stdout",
     "output_type": "stream",
     "text": [
      "[1, -1, 1, 1, 1, -1, -1]\n"
     ]
    }
   ],
   "source": [
    "#25-a \n",
    "\n",
    "def sign(x):\n",
    "    if x>0:\n",
    "        return 1\n",
    "    else:\n",
    "        return -1\n",
    "\n",
    "#25-b\n",
    "sign_2 = lambda x : 1 if x>0 else -1\n",
    "\n",
    "#25-c\n",
    "lst = [19,-3,8,2,1,-1,-4]\n",
    "lst_a=[]\n",
    "\n",
    "\n",
    "sign_3 = lambda x : 1 if x>0 else -1\n",
    "for a in lst:\n",
    "    b=sign_3(a)\n",
    "    lst_a.append(b)\n",
    "print(lst_a)\n"
   ]
  },
  {
   "cell_type": "code",
   "execution_count": 90,
   "metadata": {},
   "outputs": [
    {
     "data": {
      "text/plain": [
       "-1"
      ]
     },
     "execution_count": 90,
     "metadata": {},
     "output_type": "execute_result"
    }
   ],
   "source": [
    "#26\n",
    "sign_2 = lambda x : 1 if x>0 else -1\n",
    "\n",
    "sign_2(-5)"
   ]
  },
  {
   "cell_type": "code",
   "execution_count": 99,
   "metadata": {},
   "outputs": [
    {
     "data": {
      "text/plain": [
       "11"
      ]
     },
     "execution_count": 99,
     "metadata": {},
     "output_type": "execute_result"
    }
   ],
   "source": [
    "#27-1\n",
    "\n",
    "f = lambda x : x if x>0 else -x\n",
    "#取絕對值\n",
    "f(-11)"
   ]
  },
  {
   "cell_type": "code",
   "execution_count": 102,
   "metadata": {},
   "outputs": [
    {
     "data": {
      "text/plain": [
       "True"
      ]
     },
     "execution_count": 102,
     "metadata": {},
     "output_type": "execute_result"
    }
   ],
   "source": [
    "#27-2\n",
    "\n",
    "f = lambda x : True if x%2 == 0 else False\n",
    "#偶數，奇數判斷\n",
    "f(8)"
   ]
  },
  {
   "cell_type": "code",
   "execution_count": 143,
   "metadata": {},
   "outputs": [
    {
     "data": {
      "text/plain": [
       "29"
      ]
     },
     "execution_count": 143,
     "metadata": {},
     "output_type": "execute_result"
    }
   ],
   "source": [
    "#27-3\n",
    "\n",
    "\n",
    "def a(lst):\n",
    "    num=0\n",
    "    for i in lst:\n",
    "        f= lambda i : i**2\n",
    "        num = num + f(i)\n",
    "    if True:\n",
    "        return num\n",
    "        \n",
    "a([2,3,4]) \n",
    "    \n"
   ]
  },
  {
   "cell_type": "code",
   "execution_count": 162,
   "metadata": {},
   "outputs": [
    {
     "data": {
      "text/plain": [
       "[2, 4, 6, 8, 10]"
      ]
     },
     "execution_count": 162,
     "metadata": {},
     "output_type": "execute_result"
    }
   ],
   "source": [
    "#27-4\n",
    "\n",
    "def even(lst):\n",
    "    lst_f=[]\n",
    "    for i in lst:\n",
    "        if i % 2 == 0:\n",
    "            f=lambda i: i\n",
    "            lst_f.append(f(i))\n",
    "    if True:\n",
    "        return lst_f\n",
    "\n",
    "even([1,2,3,4,5,6,8,10])\n"
   ]
  },
  {
   "cell_type": "code",
   "execution_count": 187,
   "metadata": {},
   "outputs": [
    {
     "data": {
      "text/plain": [
       "[6, 100]"
      ]
     },
     "execution_count": 187,
     "metadata": {},
     "output_type": "execute_result"
    }
   ],
   "source": [
    "#28\n",
    "def a(lst):\n",
    "    f = lambda x: x\n",
    "    lst=[ f(x) for x in lst if 0<=x<=255 ]\n",
    "    return lst\n",
    "a([-3,6,100,300])"
   ]
  },
  {
   "cell_type": "code",
   "execution_count": 190,
   "metadata": {},
   "outputs": [
    {
     "data": {
      "text/plain": [
       "[0, 6, 0, 6, 8]"
      ]
     },
     "execution_count": 190,
     "metadata": {},
     "output_type": "execute_result"
    }
   ],
   "source": [
    "#29\n",
    "def a(lst):\n",
    "    f = lambda x: 0 if x<0 else x\n",
    "    list=[ f(x) for x in lst ]\n",
    "    return list\n",
    "a([-3,6,-4,6,8])"
   ]
  },
  {
   "cell_type": "markdown",
   "metadata": {},
   "source": [
    "6-7函數的進階應用"
   ]
  },
  {
   "cell_type": "code",
   "execution_count": 215,
   "metadata": {},
   "outputs": [
    {
     "data": {
      "text/plain": [
       "5"
      ]
     },
     "execution_count": 215,
     "metadata": {},
     "output_type": "execute_result"
    }
   ],
   "source": [
    "add = lambda x,y : x+y\n",
    "add(*[2,3])"
   ]
  },
  {
   "cell_type": "code",
   "execution_count": 228,
   "metadata": {},
   "outputs": [
    {
     "data": {
      "text/plain": [
       "121"
      ]
     },
     "execution_count": 228,
     "metadata": {},
     "output_type": "execute_result"
    }
   ],
   "source": [
    "#30-a\n",
    "def rgb2gray(r,g,b):\n",
    "    v = r*0.299+g*0.587+b*0.114\n",
    "    if v % 1 >=5:\n",
    "        return int(v//1 +1)\n",
    "    else:\n",
    "        return int(v//1)\n",
    "rgb2gray(248,32,250)"
   ]
  },
  {
   "cell_type": "code",
   "execution_count": 229,
   "metadata": {},
   "outputs": [
    {
     "data": {
      "text/plain": [
       "57"
      ]
     },
     "execution_count": 229,
     "metadata": {},
     "output_type": "execute_result"
    }
   ],
   "source": [
    "#30-b\n",
    "def rgb2gray(r,g,b):\n",
    "    v = r*0.299+g*0.587+b*0.114\n",
    "    if v % 1 >=5:\n",
    "        return int(v//1 +1)\n",
    "    else:\n",
    "        return int(v//1)\n",
    "rgb2gray(*[32,56,128])"
   ]
  },
  {
   "cell_type": "code",
   "execution_count": 233,
   "metadata": {},
   "outputs": [
    {
     "name": "stdout",
     "output_type": "stream",
     "text": [
      "89\n",
      "48\n",
      "80\n",
      "88\n"
     ]
    }
   ],
   "source": [
    "#30-c\n",
    "\n",
    "#function\n",
    "def rgb2gray(r,g,b):\n",
    "    v = r*0.299+g*0.587+b*0.114\n",
    "    if v % 1 >=5:\n",
    "        return int(v//1 +1)\n",
    "    else:\n",
    "        return int(v//1)\n",
    "\n",
    "#code\n",
    "colors=[[34,128,34],[56,22,169],[147,43,98],[155,65,38]]\n",
    "\n",
    "for i in colors:\n",
    "    print(rgb2gray(*i))\n",
    "\n"
   ]
  },
  {
   "cell_type": "code",
   "execution_count": 237,
   "metadata": {},
   "outputs": [
    {
     "data": {
      "text/plain": [
       "{'P': 1, 'Y': 2, 't': 3, 'h': 4, 'o': 5, 'n': 6}"
      ]
     },
     "execution_count": 237,
     "metadata": {},
     "output_type": "execute_result"
    }
   ],
   "source": [
    "#31\n",
    "a=[\"P\",\"Y\",\"t\",\"h\",\"o\",\"n\"]\n",
    "b=[1,2,3,4,5,6]\n",
    "\n",
    "dict(zip(a,b))"
   ]
  },
  {
   "cell_type": "code",
   "execution_count": 241,
   "metadata": {},
   "outputs": [
    {
     "data": {
      "text/plain": [
       "[(45, 109, 9), (33, 85, 8), (75, 63, 5)]"
      ]
     },
     "execution_count": 241,
     "metadata": {},
     "output_type": "execute_result"
    }
   ],
   "source": [
    "#32-a\n",
    "a=(45,33,75)\n",
    "b=(109,85,63)\n",
    "c=(9,8,5)\n",
    "\n",
    "list(zip(a,b,c))"
   ]
  },
  {
   "cell_type": "code",
   "execution_count": 263,
   "metadata": {},
   "outputs": [
    {
     "name": "stdout",
     "output_type": "stream",
     "text": [
      "[[45, 109, 9], [33, 85, 8], [75, 63, 5]]\n"
     ]
    }
   ],
   "source": [
    "#32-b\n",
    "a=(45,33,75)\n",
    "b=(109,85,63)\n",
    "c=(9,8,5)\n",
    "\n",
    "lst=[]\n",
    "for i in zip(a,b,c):\n",
    "    i=list(i)\n",
    "    lst.append(i)\n",
    "print(lst)"
   ]
  },
  {
   "cell_type": "code",
   "execution_count": 274,
   "metadata": {},
   "outputs": [
    {
     "data": {
      "text/plain": [
       "[1, 1, 2, 3, 5, 8, 13, 21, 34, 55]"
      ]
     },
     "execution_count": 274,
     "metadata": {},
     "output_type": "execute_result"
    }
   ],
   "source": [
    "#33\n",
    "#找一個費式數列\n",
    "def  fib(n):\n",
    "    if n >=3: # fib(1) & fib(2) =1 \n",
    "        return fib(n-1) + fib(n-2)\n",
    "    else:\n",
    "        return 1\n",
    "\n",
    "def fib2(n):\n",
    "\n",
    "    lst=[ fib(i) for i in range(1,n+1) ]\n",
    "    return lst\n",
    "fib2(10)\n"
   ]
  },
  {
   "cell_type": "code",
   "execution_count": 281,
   "metadata": {},
   "outputs": [
    {
     "name": "stdout",
     "output_type": "stream",
     "text": [
      "3\n",
      "6\n",
      "9\n"
     ]
    }
   ],
   "source": [
    "#34\n",
    "\n",
    "#定義函數\n",
    "def gen(n):\n",
    "    for i in range(1,n+1):\n",
    "        if i % 3 == 0 and i % 5 != 0:\n",
    "            yield i\n",
    "#讀取gen(n)\n",
    "gi=gen(10)\n",
    "for i in gi:\n",
    "    print(i)\n"
   ]
  },
  {
   "cell_type": "code",
   "execution_count": 288,
   "metadata": {},
   "outputs": [
    {
     "name": "stdout",
     "output_type": "stream",
     "text": [
      "1\n",
      "2\n",
      "3\n",
      "5\n",
      "7\n",
      "11\n",
      "13\n",
      "17\n",
      "19\n",
      "23\n",
      "29\n",
      "31\n",
      "37\n",
      "41\n",
      "43\n",
      "47\n"
     ]
    }
   ],
   "source": [
    "#35\n",
    "def primes(n):\n",
    "    lst=[]\n",
    "\n",
    "    for i in range(1,n+1):\n",
    "        t=0 #每個數因數的數量\n",
    "        for a in range(1,i+1):\n",
    "            if i % a == 0:\n",
    "                t+=1\n",
    "        if t<=2:\n",
    "            yield i\n",
    "gi=primes(50)\n",
    "for i in gi:\n",
    "    print(i)\n"
   ]
  },
  {
   "cell_type": "code",
   "execution_count": 11,
   "metadata": {},
   "outputs": [
    {
     "name": "stdout",
     "output_type": "stream",
     "text": [
      "1\n",
      "2\n",
      "3\n",
      "5\n",
      "7\n",
      "11\n"
     ]
    }
   ],
   "source": [
    "#36\n",
    "def primes():\n",
    "    lst=[]\n",
    "    a = float(\"inf\")\n",
    "    for i in range(1,1000):\n",
    "        t=0 #每個數因數的數量\n",
    "        for a in range(1,i+1):\n",
    "            if i % a == 0:\n",
    "                t+=1\n",
    "        if t<=2:\n",
    "            yield i\n",
    "gi=primes()\n",
    "\n",
    "# eg :\n",
    "print(next(gi))\n",
    "print(next(gi))\n",
    "print(next(gi))\n",
    "print(next(gi))\n",
    "print(next(gi))\n",
    "print(next(gi))"
   ]
  }
 ],
 "metadata": {
  "kernelspec": {
   "display_name": "Python 3.9.13 64-bit (microsoft store)",
   "language": "python",
   "name": "python3"
  },
  "language_info": {
   "codemirror_mode": {
    "name": "ipython",
    "version": 3
   },
   "file_extension": ".py",
   "mimetype": "text/x-python",
   "name": "python",
   "nbconvert_exporter": "python",
   "pygments_lexer": "ipython3",
   "version": "3.9.13"
  },
  "orig_nbformat": 4,
  "vscode": {
   "interpreter": {
    "hash": "6c74c21d66fcf30ed781ed93a5bd466f3e8f981da94f873abee0662ca5cef8b4"
   }
  }
 },
 "nbformat": 4,
 "nbformat_minor": 2
}
