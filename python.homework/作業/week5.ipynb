{
  "nbformat": 4,
  "nbformat_minor": 0,
  "metadata": {
    "colab": {
      "provenance": []
    },
    "kernelspec": {
      "name": "python3",
      "display_name": "Python 3"
    },
    "language_info": {
      "name": "python"
    }
  },
  "cells": [
    {
      "cell_type": "markdown",
      "source": [
        "5-1"
      ],
      "metadata": {
        "id": "wFmWY9QvF3Wr"
      }
    },
    {
      "cell_type": "code",
      "source": [
        "#1\n",
        "t=int(input('溫度='))\n",
        "\n",
        "if t >28:\n",
        "  print('開冷氣')\n",
        "elif t <=28 and t>=15:\n",
        "  print('不開冷氣') \n",
        "else:\n",
        "  print('開暖氣')"
      ],
      "metadata": {
        "colab": {
          "base_uri": "https://localhost:8080/"
        },
        "id": "pqdS5YCDF7VR",
        "outputId": "eba46355-e6e1-4e10-9bd3-45a5c482c48d"
      },
      "execution_count": 11,
      "outputs": [
        {
          "output_type": "stream",
          "name": "stdout",
          "text": [
            "溫度=28\n",
            "不開冷氣\n"
          ]
        }
      ]
    },
    {
      "cell_type": "code",
      "source": [
        "#2\n",
        "x=int(input('x='))\n",
        "if x%2 == 0:\n",
        "  print('x是偶數')\n",
        "elif x%2 == 1:\n",
        "  print('x是奇數')"
      ],
      "metadata": {
        "colab": {
          "base_uri": "https://localhost:8080/"
        },
        "id": "ixk9tWJyHH8l",
        "outputId": "5770af42-ca2f-4dfc-b4d3-2063e5632bf7"
      },
      "execution_count": 12,
      "outputs": [
        {
          "output_type": "stream",
          "name": "stdout",
          "text": [
            "x=2\n",
            "x是偶數\n"
          ]
        }
      ]
    },
    {
      "cell_type": "code",
      "source": [
        "#3\n",
        "y=int(input('西元年分='))\n",
        "\n",
        "if y%400 == 0 or y%4 == 0 and y%100 !=0:\n",
        "  print(str(y)+'是閏年')\n",
        "else:\n",
        "  print(str(y)+'是平年')"
      ],
      "metadata": {
        "colab": {
          "base_uri": "https://localhost:8080/"
        },
        "id": "RCSxQ6pLH2st",
        "outputId": "14ddfb87-6f81-4672-fefe-d60364da97e9"
      },
      "execution_count": 16,
      "outputs": [
        {
          "output_type": "stream",
          "name": "stdout",
          "text": [
            "西元年分=1999\n",
            "1999是平年\n"
          ]
        }
      ]
    },
    {
      "cell_type": "code",
      "source": [
        "#4\n",
        "a=int(input('a='))\n",
        "b=int(input('b='))\n",
        "c=int(input('c='))\n",
        "tuple=((a,b,c))\n",
        "if a+b>c:\n",
        "  print(str(tuple)+'可以形成三角形')\n",
        "else:\n",
        "  print(str(tuple)+'無法形成三角形')"
      ],
      "metadata": {
        "colab": {
          "base_uri": "https://localhost:8080/"
        },
        "id": "-Hj4sLmUI2HO",
        "outputId": "b9ab2dc8-c390-475e-c9cb-790ed34ba559"
      },
      "execution_count": 35,
      "outputs": [
        {
          "output_type": "stream",
          "name": "stdout",
          "text": [
            "a=5\n",
            "b=12\n",
            "c=3\n",
            "(5, 12, 3)可以形成三角形\n"
          ]
        }
      ]
    },
    {
      "cell_type": "code",
      "source": [
        "#5\n",
        "x=int(input('x='))\n",
        "if x>=90:\n",
        "  print('A')\n",
        "elif 80<=x<90:\n",
        "  print('B')\n",
        "elif 70<=x<80:\n",
        "  print('C')\n",
        "elif 60<=x<70:\n",
        "  print('D')\n",
        "elif x<60:\n",
        "  print('F')"
      ],
      "metadata": {
        "colab": {
          "base_uri": "https://localhost:8080/"
        },
        "id": "xfKEzQkeNd59",
        "outputId": "9cfb2a35-73e9-4e49-80e1-4b8762dd7502"
      },
      "execution_count": 42,
      "outputs": [
        {
          "output_type": "stream",
          "name": "stdout",
          "text": [
            "x=90\n",
            "A\n"
          ]
        }
      ]
    },
    {
      "cell_type": "code",
      "source": [
        "#6\n",
        "a=int(input('a='))\n",
        "b=int(input('b='))\n",
        "c=int(input('c='))\n",
        "\n",
        "if a>b>c:\n",
        "  print((c,b,a))\n",
        "elif a>c>b:\n",
        "  print((b,c,a))  \n",
        "elif b>a>c:\n",
        "  print((c,a,b))\n",
        "elif b>c>a:\n",
        "  print((a,c,b))\n",
        "  \n",
        "elif c>a>b:\n",
        "  print((b,a,c))\n",
        "elif c>b>a:\n",
        "  print((a,b,c))\n",
        "\n"
      ],
      "metadata": {
        "colab": {
          "base_uri": "https://localhost:8080/"
        },
        "id": "20gmtYhHpPeb",
        "outputId": "53aea771-bedc-49c0-ef11-1fcb1dd40e85"
      },
      "execution_count": 64,
      "outputs": [
        {
          "output_type": "stream",
          "name": "stdout",
          "text": [
            "a=5\n",
            "b=10\n",
            "c=2\n",
            "(2, 5, 10)\n"
          ]
        }
      ]
    },
    {
      "cell_type": "code",
      "source": [
        "#7\n",
        "##1\n",
        "var= print('5為奇數') if 5%2==1 else print('5為偶數')\n",
        "\n",
        "##2\n",
        "x=6\n",
        "y=3\n",
        "z=0\n",
        "z= x if x>y else y\n",
        "print(z)\n",
        "\n",
        "##3\n",
        "x=[5,6,4]\n",
        "var= print('x is not empty') if x else print('x is empty')\n",
        "\n",
        "##4\n",
        "x=-10\n",
        "x= -x if x<0 else x\n",
        "print(x)"
      ],
      "metadata": {
        "colab": {
          "base_uri": "https://localhost:8080/"
        },
        "id": "CaSJhjDzuX9W",
        "outputId": "5984e4c4-9e82-4cd5-f294-e377140668ae"
      },
      "execution_count": 86,
      "outputs": [
        {
          "output_type": "stream",
          "name": "stdout",
          "text": [
            "5為奇數\n",
            "6\n",
            "x is not empty\n",
            "10\n"
          ]
        }
      ]
    },
    {
      "cell_type": "code",
      "source": [
        "#8\n",
        "m=int(input('month'))\n",
        "if 3<=m<=5:\n",
        "  print(str(m)+' is spring')\n",
        "elif 6<=m<=8:\n",
        "  print(str(m)+' is summer')\n",
        "elif 9<=m<=11:\n",
        "  print(str(m)+' is autumn')\n",
        "else:\n",
        "  print(str(m)+' is winter')"
      ],
      "metadata": {
        "colab": {
          "base_uri": "https://localhost:8080/"
        },
        "id": "T6UylZ7fyTfk",
        "outputId": "73d6a793-2278-4bf0-d3f4-42334dbcd9b9"
      },
      "execution_count": 91,
      "outputs": [
        {
          "output_type": "stream",
          "name": "stdout",
          "text": [
            "month5\n",
            "5 is spring\n"
          ]
        }
      ]
    },
    {
      "cell_type": "code",
      "source": [
        "#9\n",
        "h=int(input('停車時間'))\n",
        "#前12小時停車費為12*40=480元\n",
        "\n",
        "if h>12:\n",
        "  price=( (h-12)*30 + 12*40 )\n",
        "  print('停車'+str(h)+'小時，應繳'+str(price)+'元')\n",
        "else:\n",
        "  print(h*40)"
      ],
      "metadata": {
        "colab": {
          "base_uri": "https://localhost:8080/"
        },
        "id": "WvvCnuE_zn6h",
        "outputId": "2642726e-74eb-4bb6-b0b2-fdd104c1aa91"
      },
      "execution_count": 96,
      "outputs": [
        {
          "output_type": "stream",
          "name": "stdout",
          "text": [
            "停車時間16\n",
            "停車16小時，應繳600元\n"
          ]
        }
      ]
    },
    {
      "cell_type": "code",
      "source": [
        "#10\n",
        "s=int(input('seconds'))\n",
        "h=s//3600\n",
        "hm=(s%3600)//60\n",
        "hs=(s%3600)%60\n",
        "print( str(s)+'秒等於'+str(h)+'小時'+str(hm)+'分鐘'+str(hs)+'秒' )"
      ],
      "metadata": {
        "colab": {
          "base_uri": "https://localhost:8080/"
        },
        "id": "2SGg9u3L2puC",
        "outputId": "a43d2260-652a-4bfe-ccd5-ba5b6bc0d0ea"
      },
      "execution_count": 108,
      "outputs": [
        {
          "output_type": "stream",
          "name": "stdout",
          "text": [
            "seconds14865\n",
            "14865秒等於4小時7分鐘45秒\n"
          ]
        }
      ]
    },
    {
      "cell_type": "code",
      "source": [
        "#11\n",
        "a=int(input('a='))\n",
        "b=int(input('b='))\n",
        "c=int(input('c='))\n",
        "tuple=((a,b,c))\n",
        "if a+b<c:\n",
        "  print(str(tuple)+'不能成為三角形')\n",
        "elif (a**2) + (b**2) != (c**2):\n",
        "  print(str(tuple)+'可成為三角形，但不是直角三角形')\n",
        "elif (a**2) + (b**2) == (c**2):\n",
        "  print(str(tuple)+'為直角三角形')"
      ],
      "metadata": {
        "colab": {
          "base_uri": "https://localhost:8080/"
        },
        "id": "E3jkr_Pv32-3",
        "outputId": "05a53fd2-f0a9-44e8-cae2-2d646bd17d55"
      },
      "execution_count": 114,
      "outputs": [
        {
          "output_type": "stream",
          "name": "stdout",
          "text": [
            "a=3\n",
            "b=4\n",
            "c=5\n",
            "(3, 4, 5)為直角三角形\n"
          ]
        }
      ]
    },
    {
      "cell_type": "code",
      "source": [
        "#12\n",
        "p=int(input('price'))\n",
        "#give_change\n",
        "gc=100-p\n",
        "print('找錢='+str(gc))\n",
        "\n",
        "if gc//50>0:\n",
        "  gc50=gc//50\n",
        "  gc10=(gc-50)//10\n",
        "  gc5=((gc-50)-gc10*10)//5\n",
        "  gc1=((gc-50)-gc10*10)%5\n",
        "  print( '50元硬幣'+str( gc50 )+'枚，'+'10元硬幣'+str( gc10 )+'枚，'+\n",
        "        '5元硬幣'+str( gc5 )+'枚，'+'1元硬幣'+str( gc1 )+'枚' )\n",
        "  \n",
        "elif gc<50 and gc>10 :\n",
        "  gc10=gc//10\n",
        "  gc5=(gc%10)//5\n",
        "  gc1=(gc%10)%5\n",
        "  print( '10元硬幣'+str( gc10 )+'枚，'+'5元硬幣'+str( gc5 )+'枚，'+'1元硬幣'+str( gc1 )+'枚' )\n",
        "elif gc<10 and gc>5:\n",
        "  gc5=gc//5\n",
        "  gc1=gc%5\n",
        "  print( '5元硬幣'+str( gc5 )+'枚，'+'1元硬幣'+str( gc1 )+'枚' )\n",
        "elif gc<5:\n",
        "  gc1=gc//1\n",
        "  print( '1元硬幣'+str( gc1 )+'枚' )\n"
      ],
      "metadata": {
        "colab": {
          "base_uri": "https://localhost:8080/"
        },
        "id": "XL5NwkqO7x_z",
        "outputId": "97b07d44-e64a-4dc4-9195-b49882a2131b"
      },
      "execution_count": 132,
      "outputs": [
        {
          "output_type": "stream",
          "name": "stdout",
          "text": [
            "price99\n",
            "找錢=1\n",
            "1元硬幣1枚，\n"
          ]
        }
      ]
    },
    {
      "cell_type": "code",
      "source": [
        "#13\n",
        "n=int(input('n='))\n",
        "sum=1\n",
        "for i in range(1,n+1):\n",
        "  sum=sum*i\n",
        "print(sum)"
      ],
      "metadata": {
        "colab": {
          "base_uri": "https://localhost:8080/"
        },
        "id": "0w1yGnQzDO9N",
        "outputId": "de534df7-ddee-4684-8ec3-93498eefa605"
      },
      "execution_count": 136,
      "outputs": [
        {
          "output_type": "stream",
          "name": "stdout",
          "text": [
            "n=5\n",
            "120\n"
          ]
        }
      ]
    },
    {
      "cell_type": "code",
      "source": [
        "#14\n",
        "sum=0\n",
        "for y in range(1,2023):\n",
        "  if y%400 == 0 or y%4 == 0 and y%100 !=0:\n",
        "    sum+=1\n",
        "print(sum)"
      ],
      "metadata": {
        "colab": {
          "base_uri": "https://localhost:8080/"
        },
        "id": "yCXOZa4REcEk",
        "outputId": "db41aebc-b9c1-42b5-bd06-fe60bf3bb155"
      },
      "execution_count": 138,
      "outputs": [
        {
          "output_type": "stream",
          "name": "stdout",
          "text": [
            "490\n"
          ]
        }
      ]
    },
    {
      "cell_type": "code",
      "source": [
        "#15\n",
        "##1\n",
        "for i in range(5,0,-1):\n",
        "  for j in range(i,0,-1):\n",
        "    print('*',end='')\n",
        "  print('') #print裡面沒東西=換行\n",
        "\n"
      ],
      "metadata": {
        "colab": {
          "base_uri": "https://localhost:8080/"
        },
        "id": "aFFAioIIE-ZR",
        "outputId": "bd73c4b1-97ab-4d34-fcf1-4214f5d06414"
      },
      "execution_count": 155,
      "outputs": [
        {
          "output_type": "stream",
          "name": "stdout",
          "text": [
            "***** \n",
            "**** \n",
            "*** \n",
            "** \n",
            "* \n"
          ]
        }
      ]
    },
    {
      "cell_type": "code",
      "source": [
        "#15\n",
        "##2\n",
        "for i in range(4,0,-1):\n",
        "  for j in range(i,0,-1):\n",
        "    a=4-i #星號的數量\n",
        "    print('-',end='')\n",
        "  print('') #print裡面沒東西=換行  \n"
      ],
      "metadata": {
        "colab": {
          "base_uri": "https://localhost:8080/"
        },
        "id": "0GkN80yfICds",
        "outputId": "7f949359-fc95-4a65-9878-6c93d2b1cbde"
      },
      "execution_count": 168,
      "outputs": [
        {
          "output_type": "stream",
          "name": "stdout",
          "text": [
            "----\n",
            "---\n",
            "--\n",
            "-\n"
          ]
        }
      ]
    },
    {
      "cell_type": "code",
      "source": [
        "#15\n",
        "##3\n"
      ],
      "metadata": {
        "id": "W8x9Zsa5M8da"
      },
      "execution_count": null,
      "outputs": []
    },
    {
      "cell_type": "code",
      "source": [
        "#15\n",
        "##4\n"
      ],
      "metadata": {
        "id": "zOAGnbbdfFS6"
      },
      "execution_count": null,
      "outputs": []
    },
    {
      "cell_type": "code",
      "source": [
        "#15\n",
        "#5\n",
        "for i in range(1,6):\n",
        "  for j in range(1,i+1):\n",
        "    print(j,end='')\n",
        "  print('')"
      ],
      "metadata": {
        "colab": {
          "base_uri": "https://localhost:8080/"
        },
        "id": "ygpVb6QqfHwB",
        "outputId": "aee53da0-45b6-4743-ffd8-c01ea48902e1"
      },
      "execution_count": 172,
      "outputs": [
        {
          "output_type": "stream",
          "name": "stdout",
          "text": [
            "1\n",
            "12\n",
            "123\n",
            "1234\n",
            "12345\n"
          ]
        }
      ]
    },
    {
      "cell_type": "code",
      "source": [
        "#15\n",
        "##5\n"
      ],
      "metadata": {
        "colab": {
          "base_uri": "https://localhost:8080/"
        },
        "id": "u57c7S9zfdIT",
        "outputId": "93190572-c6d2-44b6-c65c-8d8f0a347d5b"
      },
      "execution_count": 174,
      "outputs": [
        {
          "output_type": "stream",
          "name": "stdout",
          "text": [
            "54321\n",
            "4321\n",
            "321\n",
            "21\n",
            "1\n"
          ]
        }
      ]
    },
    {
      "cell_type": "code",
      "source": [
        "#15\n",
        "##6"
      ],
      "metadata": {
        "id": "JrHK3sIGgGZ_"
      },
      "execution_count": null,
      "outputs": []
    },
    {
      "cell_type": "code",
      "source": [
        "#15\n",
        "##7"
      ],
      "metadata": {
        "id": "h0okxFlbgIJg"
      },
      "execution_count": null,
      "outputs": []
    },
    {
      "cell_type": "code",
      "source": [
        "#15\n",
        "##8"
      ],
      "metadata": {
        "id": "h0gjYfYJgJdg"
      },
      "execution_count": null,
      "outputs": []
    },
    {
      "cell_type": "code",
      "source": [
        "#16\n",
        "#1\n"
      ],
      "metadata": {
        "id": "R2cT-IdsgLcf"
      },
      "execution_count": null,
      "outputs": []
    },
    {
      "cell_type": "code",
      "source": [
        "#16\n",
        "#2\n",
        "for i in range(5,0,-1):\n",
        "  for j in range(1,i+1):\n",
        "    print(j,end='')\n",
        "  print('')"
      ],
      "metadata": {
        "colab": {
          "base_uri": "https://localhost:8080/"
        },
        "id": "VanogSjMgQ_D",
        "outputId": "e1402215-3041-4f86-f5e6-9dd03df2d222"
      },
      "execution_count": 176,
      "outputs": [
        {
          "output_type": "stream",
          "name": "stdout",
          "text": [
            "12345\n",
            "1234\n",
            "123\n",
            "12\n",
            "1\n"
          ]
        }
      ]
    },
    {
      "cell_type": "code",
      "source": [
        "#17\n",
        "lst=[[2,4,5],[5,8,None],[10,3,4]]\n",
        "sum1=0\n",
        "for i in lst[0]:\n",
        "  sum1+=i\n",
        "print(sum1)\n",
        "\n",
        "print('Incomplete data')\n",
        "\n",
        "sum2=0\n",
        "for i in lst[2]:\n",
        "  sum2+=i\n",
        "print(sum2)"
      ],
      "metadata": {
        "colab": {
          "base_uri": "https://localhost:8080/"
        },
        "id": "0kGjnD2_gtsZ",
        "outputId": "6030baf5-76fb-4f60-fdc0-9f52766b440c"
      },
      "execution_count": 189,
      "outputs": [
        {
          "output_type": "stream",
          "name": "stdout",
          "text": [
            "11\n",
            "Incomplete data\n",
            "17\n"
          ]
        }
      ]
    },
    {
      "cell_type": "code",
      "source": [
        "#18\n",
        "n=int(input('number='))\n",
        "lst=[]\n",
        "for i in str(n):\n",
        "  lst.append(int(n))\n",
        "print(lst.sort(reverse=True))"
      ],
      "metadata": {
        "colab": {
          "base_uri": "https://localhost:8080/"
        },
        "id": "37oY4G4viwDr",
        "outputId": "4914cae7-e481-4c66-f6c3-e2886280920f"
      },
      "execution_count": 192,
      "outputs": [
        {
          "output_type": "stream",
          "name": "stdout",
          "text": [
            "number=12345\n",
            "None\n"
          ]
        }
      ]
    },
    {
      "cell_type": "code",
      "source": [
        "#19\n",
        "a=int(input('a='))\n",
        "b=int(input('b=')) #a<=b\n",
        "\n",
        "for i in range(0,100):\n",
        "  if a\n"
      ],
      "metadata": {
        "colab": {
          "base_uri": "https://localhost:8080/"
        },
        "id": "3Z6bduRZjtCs",
        "outputId": "84ee4eed-95a8-4a9a-b88f-5f4e192315c7"
      },
      "execution_count": 193,
      "outputs": [
        {
          "name": "stdout",
          "output_type": "stream",
          "text": [
            "a=2\n",
            "b=6\n"
          ]
        }
      ]
    }
  ]
}