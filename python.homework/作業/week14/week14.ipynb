{
 "cells": [
  {
   "cell_type": "code",
   "execution_count": 16,
   "metadata": {},
   "outputs": [
    {
     "name": "stdout",
     "output_type": "stream",
     "text": [
      "['P', 'y', 't', 'h', 'o', 'n']\n"
     ]
    }
   ],
   "source": [
    "#1\n",
    "with open(\"sample.txt\",\"w\") as f:\n",
    "    f.write(\"Python\")\n",
    "\n",
    "with open('sample.txt',\"r\") as f:\n",
    "    data = f.read()\n",
    "    a = [ i for i in data]\n",
    "print(a)"
   ]
  },
  {
   "cell_type": "code",
   "execution_count": 124,
   "metadata": {},
   "outputs": [
    {
     "name": "stdout",
     "output_type": "stream",
     "text": [
      "最大值:89\n",
      "最小值:12\n"
     ]
    }
   ],
   "source": [
    "#2\n",
    "with open(\"mat.csv\",\"w\") as f:\n",
    "    f.writelines([\"23 45 23 65\\n\",\n",
    "            \"44 56 88 21\\n\",\n",
    "            \"50 67 89 12\\n\"])\n",
    "import csv\n",
    "lst=[]\n",
    "with open(\"mat.csv\",\"r\") as f:   \n",
    "    data = csv.reader(f, delimiter = \" \")\n",
    "    # print(list(data))\n",
    "    for i in data:\n",
    "        for n in i:\n",
    "            lst.append(n)\n",
    "print(\"最大值:\"+max(lst))\n",
    "print(\"最小值:\"+min(lst))"
   ]
  },
  {
   "cell_type": "code",
   "execution_count": 137,
   "metadata": {},
   "outputs": [
    {
     "name": "stdout",
     "output_type": "stream",
     "text": [
      "b'\\x80\\x04\\x954\\x00\\x00\\x00\\x00\\x00\\x00\\x00]\\x94\\x8c-\\xe5\\x8e\\xbb\\xe5\\xb9\\xb4\\xe4\\xbb\\x8a\\xe6\\x97\\xa5\\xe6\\xad\\xa4\\xe9\\x96\\x80\\xe4\\xb8\\xad\\xef\\xbc\\x8c\\xe4\\xba\\xba\\xe9\\x9d\\xa2\\xe6\\xa1\\x83\\xe8\\x8a\\xb1\\xe7\\x9b\\xb8\\xe6\\x98\\xa0\\xe7\\xb4\\x85\\x94a.'\n"
     ]
    },
    {
     "data": {
      "text/plain": [
       "['去年今日此門中，人面桃花相映紅']"
      ]
     },
     "execution_count": 137,
     "metadata": {},
     "output_type": "execute_result"
    }
   ],
   "source": [
    "#3\n",
    "import pickle\n",
    "lst = [\"去年今日此門中，人面桃花相映紅\"]\n",
    "print(pickle.dumps(lst))\n",
    "a = pickle.dumps(lst)\n",
    "\n",
    "pickle.loads(a)"
   ]
  },
  {
   "cell_type": "code",
   "execution_count": 145,
   "metadata": {},
   "outputs": [
    {
     "name": "stdout",
     "output_type": "stream",
     "text": [
      "[12, 38, 64, 252]\n"
     ]
    }
   ],
   "source": [
    "#4\n",
    "a = b'\\x0c&@\\xfc'\n",
    "list(a)\n",
    "print([12, 38, 64, 252])"
   ]
  },
  {
   "cell_type": "code",
   "execution_count": 149,
   "metadata": {},
   "outputs": [
    {
     "name": "stdout",
     "output_type": "stream",
     "text": [
      "utf-8解碼錯誤\n"
     ]
    }
   ],
   "source": [
    "#5\n",
    "\n",
    "# b\"\\x04\\xeb\\x12\".decode(\"utf-8\")\n",
    "try:\n",
    "    b\"\\x04\\xeb\\x12\".decode(\"utf-8\")\n",
    "except:\n",
    "    print(\"utf-8解碼錯誤\")"
   ]
  },
  {
   "cell_type": "code",
   "execution_count": 155,
   "metadata": {},
   "outputs": [
    {
     "name": "stdout",
     "output_type": "stream",
     "text": [
      "b'\\x02H\\xff'\n",
      "無法轉換\n"
     ]
    }
   ],
   "source": [
    "#6\n",
    "def to_byteArray(lst):\n",
    "    try:\n",
    "        bytes(lst)\n",
    "    except:\n",
    "        print(\"無法轉換\")\n",
    "    else:\n",
    "        print(bytes(lst))\n",
    "to_byteArray([2,72,255])\n",
    "to_byteArray([2,72,256])"
   ]
  },
  {
   "cell_type": "code",
   "execution_count": 36,
   "metadata": {},
   "outputs": [
    {
     "name": "stdout",
     "output_type": "stream",
     "text": [
      "[1, 2, 5, 10, 25, 50]\n",
      "[1, 2, 3, 5, 7, 11, 13, 17, 19, 23, 29, 31, 37, 41, 43, 47, 53, 59, 61, 67, 71, 73, 79, 83, 89, 97]\n"
     ]
    }
   ],
   "source": [
    "#7-a\n",
    "from math_module1 import factors\n",
    "# from math_module1 import primes\n",
    "print(factors(50))\n",
    "from math_module1 import primes\n",
    "print(primes(100))"
   ]
  },
  {
   "cell_type": "code",
   "execution_count": 38,
   "metadata": {},
   "outputs": [
    {
     "name": "stdout",
     "output_type": "stream",
     "text": [
      "[1, 2, 5, 10, 25, 50]\n",
      "[1, 2, 3, 5, 7, 11, 13, 17, 19, 23, 29, 31, 37, 41, 43, 47, 53, 59, 61, 67, 71, 73, 79, 83, 89, 97]\n"
     ]
    }
   ],
   "source": [
    "#7-b\n",
    "# from math_pkg\n",
    "import math_pkg.math_module2\n",
    "print(factors(50))\n",
    "print(primes(100))"
   ]
  },
  {
   "cell_type": "code",
   "execution_count": 66,
   "metadata": {},
   "outputs": [
    {
     "name": "stdout",
     "output_type": "stream",
     "text": [
      "[1, 2, 5, 10, 25, 50]\n"
     ]
    }
   ],
   "source": [
    "#7-c\n",
    "import sys\n",
    "my_path = r\"C:/python_pkg/my_pkg\"\n",
    "\n",
    "if my_path not in sys.path:\n",
    "    sys.path.append(my_path)\n",
    "\n",
    "import math_module3\n",
    "math_module3.factors(50)"
   ]
  },
  {
   "cell_type": "code",
   "execution_count": 67,
   "metadata": {},
   "outputs": [
    {
     "name": "stdout",
     "output_type": "stream",
     "text": [
      "[1, 2, 3, 5, 7, 11, 13, 17, 19, 23, 29, 31, 37, 41, 43, 47]"
     ]
    }
   ],
   "source": [
    "math_module3.primes(50)"
   ]
  }
 ],
 "metadata": {
  "kernelspec": {
   "display_name": "Python 3",
   "language": "python",
   "name": "python3"
  },
  "language_info": {
   "codemirror_mode": {
    "name": "ipython",
    "version": 3
   },
   "file_extension": ".py",
   "mimetype": "text/x-python",
   "name": "python",
   "nbconvert_exporter": "python",
   "pygments_lexer": "ipython3",
   "version": "3.9.13"
  },
  "orig_nbformat": 4,
  "vscode": {
   "interpreter": {
    "hash": "6c74c21d66fcf30ed781ed93a5bd466f3e8f981da94f873abee0662ca5cef8b4"
   }
  }
 },
 "nbformat": 4,
 "nbformat_minor": 2
}
