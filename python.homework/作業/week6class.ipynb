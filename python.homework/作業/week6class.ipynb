{
  "nbformat": 4,
  "nbformat_minor": 0,
  "metadata": {
    "colab": {
      "provenance": []
    },
    "kernelspec": {
      "name": "python3",
      "display_name": "Python 3"
    },
    "language_info": {
      "name": "python"
    }
  },
  "cells": [
    {
      "cell_type": "code",
      "execution_count": 5,
      "metadata": {
        "colab": {
          "base_uri": "https://localhost:8080/"
        },
        "id": "w7X3iOkgnOqf",
        "outputId": "982dc5dc-dfa1-4edc-8d1b-005ef0990f43"
      },
      "outputs": [
        {
          "output_type": "stream",
          "name": "stdout",
          "text": [
            "number=6\n",
            "6是偶數\n"
          ]
        }
      ],
      "source": [
        "#1\n",
        "n=int(input('number='))\n",
        "if n%2==0:\n",
        "  print(str(n)+'是偶數')\n",
        "else:\n",
        "  print(str(n)+'是奇數')"
      ]
    },
    {
      "cell_type": "code",
      "source": [
        "#2\n",
        "n=int(input('number='))\n",
        "if n%3 ==0 or n%7 ==0:\n",
        "  print(str(n)+'可以被3或7整除')\n",
        "elif n%3 !=0 and n%7 !=0:\n",
        "  print(str(n)+'無法被3或7整除')"
      ],
      "metadata": {
        "colab": {
          "base_uri": "https://localhost:8080/"
        },
        "id": "yXPr-_NMnvg-",
        "outputId": "ce91e7be-40ad-4c94-a607-1c1a4eb9400c"
      },
      "execution_count": 12,
      "outputs": [
        {
          "output_type": "stream",
          "name": "stdout",
          "text": [
            "number=21\n",
            "21可以被3或7整除\n"
          ]
        }
      ]
    },
    {
      "cell_type": "code",
      "source": [
        "#3\n",
        "n=int(input('N='))\n",
        "#最大值(large)\n",
        "\n",
        "  \n",
        "for i in range(n,0,-2):\n",
        "  for j in range(1,i+1):\n",
        "    \n",
        "    print('-',end='')\n",
        "    for j in range(1,i+1):\n",
        "    \n",
        "      print('*',end='')\n",
        "  print('')\n"
      ],
      "metadata": {
        "colab": {
          "base_uri": "https://localhost:8080/"
        },
        "id": "wHnF2V5upHlc",
        "outputId": "557721e4-6910-4010-8319-35310fe0faff"
      },
      "execution_count": 30,
      "outputs": [
        {
          "output_type": "stream",
          "name": "stdout",
          "text": [
            "N=5\n",
            "-*****-*****-*****-*****-*****\n",
            "-***-***-***\n",
            "-*\n"
          ]
        }
      ]
    }
  ]
}